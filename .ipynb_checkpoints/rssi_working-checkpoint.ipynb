{
 "cells": [
  {
   "cell_type": "code",
   "execution_count": 6,
   "id": "c04d9b6d",
   "metadata": {},
   "outputs": [],
   "source": [
    "import plotly.graph_objs as go\n",
    "from plotly.offline import iplot\n",
    "\n",
    "def plot_dataset(df, title):\n",
    "    data = []\n",
    "    value = go.Scatter(\n",
    "        x=df.index,\n",
    "        y=df.value,\n",
    "        mode=\"lines\",\n",
    "        name=\"values\",\n",
    "        marker=dict(),\n",
    "        text=df.index,\n",
    "        line=dict(color=\"rgba(0,0,0, 0.3)\"),\n",
    "    )\n",
    "    data.append(value)\n",
    "\n",
    "    layout = dict(\n",
    "        title=title,\n",
    "        xaxis=dict(title=\"Min\", ticklen=5, zeroline=False),\n",
    "        yaxis=dict(title=\"Value\", ticklen=5, zeroline=False),\n",
    "    )\n",
    "\n",
    "    fig = dict(data=data, layout=layout)\n",
    "    iplot(fig)"
   ]
  },
  {
   "cell_type": "code",
   "execution_count": 7,
   "id": "643d4fc4",
   "metadata": {},
   "outputs": [
    {
     "data": {
      "application/vnd.plotly.v1+json": {
       "config": {
        "linkText": "Export to plot.ly",
        "plotlyServerURL": "https://plot.ly",
        "showLink": false
       },
       "data": [
        {
         "line": {
          "color": "rgba(0,0,0, 0.3)"
         },
         "mode": "lines",
         "name": "values",
         "text": [
          0,
          1,
          2,
          3,
          4,
          5,
          6,
          7,
          8,
          9,
          10,
          11,
          12,
          13,
          14,
          15,
          16,
          17,
          18,
          19,
          20,
          21,
          22,
          23,
          24,
          25,
          26,
          27,
          28,
          29,
          30,
          31,
          32,
          33,
          34,
          35,
          36,
          37,
          38,
          39,
          40,
          41,
          42,
          43,
          44,
          45,
          46,
          47,
          48,
          49,
          50,
          51,
          52,
          53,
          54,
          55,
          56,
          57,
          58,
          59,
          60,
          61,
          62,
          63,
          64,
          65,
          66,
          67
         ],
         "type": "scatter",
         "x": [
          0,
          1,
          2,
          3,
          4,
          5,
          6,
          7,
          8,
          9,
          10,
          11,
          12,
          13,
          14,
          15,
          16,
          17,
          18,
          19,
          20,
          21,
          22,
          23,
          24,
          25,
          26,
          27,
          28,
          29,
          30,
          31,
          32,
          33,
          34,
          35,
          36,
          37,
          38,
          39,
          40,
          41,
          42,
          43,
          44,
          45,
          46,
          47,
          48,
          49,
          50,
          51,
          52,
          53,
          54,
          55,
          56,
          57,
          58,
          59,
          60,
          61,
          62,
          63,
          64,
          65,
          66,
          67
         ],
         "y": [
          68,
          68,
          68,
          68,
          68,
          68,
          68,
          68,
          67,
          67,
          67,
          67,
          67,
          67,
          66,
          66,
          66,
          66,
          66,
          66,
          66,
          65,
          65,
          65,
          65,
          65,
          65,
          65,
          64,
          64,
          64,
          64,
          64,
          64,
          64,
          63,
          63,
          63,
          63,
          63,
          63,
          63,
          63,
          62,
          62,
          62,
          62,
          62,
          62,
          62,
          61,
          61,
          61,
          61,
          61,
          61,
          61,
          60,
          60,
          60,
          60,
          60,
          60,
          60,
          60,
          60,
          60,
          60
         ]
        }
       ],
       "layout": {
        "template": {
         "data": {
          "bar": [
           {
            "error_x": {
             "color": "#2a3f5f"
            },
            "error_y": {
             "color": "#2a3f5f"
            },
            "marker": {
             "line": {
              "color": "#E5ECF6",
              "width": 0.5
             },
             "pattern": {
              "fillmode": "overlay",
              "size": 10,
              "solidity": 0.2
             }
            },
            "type": "bar"
           }
          ],
          "barpolar": [
           {
            "marker": {
             "line": {
              "color": "#E5ECF6",
              "width": 0.5
             },
             "pattern": {
              "fillmode": "overlay",
              "size": 10,
              "solidity": 0.2
             }
            },
            "type": "barpolar"
           }
          ],
          "carpet": [
           {
            "aaxis": {
             "endlinecolor": "#2a3f5f",
             "gridcolor": "white",
             "linecolor": "white",
             "minorgridcolor": "white",
             "startlinecolor": "#2a3f5f"
            },
            "baxis": {
             "endlinecolor": "#2a3f5f",
             "gridcolor": "white",
             "linecolor": "white",
             "minorgridcolor": "white",
             "startlinecolor": "#2a3f5f"
            },
            "type": "carpet"
           }
          ],
          "choropleth": [
           {
            "colorbar": {
             "outlinewidth": 0,
             "ticks": ""
            },
            "type": "choropleth"
           }
          ],
          "contour": [
           {
            "colorbar": {
             "outlinewidth": 0,
             "ticks": ""
            },
            "colorscale": [
             [
              0,
              "#0d0887"
             ],
             [
              0.1111111111111111,
              "#46039f"
             ],
             [
              0.2222222222222222,
              "#7201a8"
             ],
             [
              0.3333333333333333,
              "#9c179e"
             ],
             [
              0.4444444444444444,
              "#bd3786"
             ],
             [
              0.5555555555555556,
              "#d8576b"
             ],
             [
              0.6666666666666666,
              "#ed7953"
             ],
             [
              0.7777777777777778,
              "#fb9f3a"
             ],
             [
              0.8888888888888888,
              "#fdca26"
             ],
             [
              1,
              "#f0f921"
             ]
            ],
            "type": "contour"
           }
          ],
          "contourcarpet": [
           {
            "colorbar": {
             "outlinewidth": 0,
             "ticks": ""
            },
            "type": "contourcarpet"
           }
          ],
          "heatmap": [
           {
            "colorbar": {
             "outlinewidth": 0,
             "ticks": ""
            },
            "colorscale": [
             [
              0,
              "#0d0887"
             ],
             [
              0.1111111111111111,
              "#46039f"
             ],
             [
              0.2222222222222222,
              "#7201a8"
             ],
             [
              0.3333333333333333,
              "#9c179e"
             ],
             [
              0.4444444444444444,
              "#bd3786"
             ],
             [
              0.5555555555555556,
              "#d8576b"
             ],
             [
              0.6666666666666666,
              "#ed7953"
             ],
             [
              0.7777777777777778,
              "#fb9f3a"
             ],
             [
              0.8888888888888888,
              "#fdca26"
             ],
             [
              1,
              "#f0f921"
             ]
            ],
            "type": "heatmap"
           }
          ],
          "heatmapgl": [
           {
            "colorbar": {
             "outlinewidth": 0,
             "ticks": ""
            },
            "colorscale": [
             [
              0,
              "#0d0887"
             ],
             [
              0.1111111111111111,
              "#46039f"
             ],
             [
              0.2222222222222222,
              "#7201a8"
             ],
             [
              0.3333333333333333,
              "#9c179e"
             ],
             [
              0.4444444444444444,
              "#bd3786"
             ],
             [
              0.5555555555555556,
              "#d8576b"
             ],
             [
              0.6666666666666666,
              "#ed7953"
             ],
             [
              0.7777777777777778,
              "#fb9f3a"
             ],
             [
              0.8888888888888888,
              "#fdca26"
             ],
             [
              1,
              "#f0f921"
             ]
            ],
            "type": "heatmapgl"
           }
          ],
          "histogram": [
           {
            "marker": {
             "pattern": {
              "fillmode": "overlay",
              "size": 10,
              "solidity": 0.2
             }
            },
            "type": "histogram"
           }
          ],
          "histogram2d": [
           {
            "colorbar": {
             "outlinewidth": 0,
             "ticks": ""
            },
            "colorscale": [
             [
              0,
              "#0d0887"
             ],
             [
              0.1111111111111111,
              "#46039f"
             ],
             [
              0.2222222222222222,
              "#7201a8"
             ],
             [
              0.3333333333333333,
              "#9c179e"
             ],
             [
              0.4444444444444444,
              "#bd3786"
             ],
             [
              0.5555555555555556,
              "#d8576b"
             ],
             [
              0.6666666666666666,
              "#ed7953"
             ],
             [
              0.7777777777777778,
              "#fb9f3a"
             ],
             [
              0.8888888888888888,
              "#fdca26"
             ],
             [
              1,
              "#f0f921"
             ]
            ],
            "type": "histogram2d"
           }
          ],
          "histogram2dcontour": [
           {
            "colorbar": {
             "outlinewidth": 0,
             "ticks": ""
            },
            "colorscale": [
             [
              0,
              "#0d0887"
             ],
             [
              0.1111111111111111,
              "#46039f"
             ],
             [
              0.2222222222222222,
              "#7201a8"
             ],
             [
              0.3333333333333333,
              "#9c179e"
             ],
             [
              0.4444444444444444,
              "#bd3786"
             ],
             [
              0.5555555555555556,
              "#d8576b"
             ],
             [
              0.6666666666666666,
              "#ed7953"
             ],
             [
              0.7777777777777778,
              "#fb9f3a"
             ],
             [
              0.8888888888888888,
              "#fdca26"
             ],
             [
              1,
              "#f0f921"
             ]
            ],
            "type": "histogram2dcontour"
           }
          ],
          "mesh3d": [
           {
            "colorbar": {
             "outlinewidth": 0,
             "ticks": ""
            },
            "type": "mesh3d"
           }
          ],
          "parcoords": [
           {
            "line": {
             "colorbar": {
              "outlinewidth": 0,
              "ticks": ""
             }
            },
            "type": "parcoords"
           }
          ],
          "pie": [
           {
            "automargin": true,
            "type": "pie"
           }
          ],
          "scatter": [
           {
            "marker": {
             "colorbar": {
              "outlinewidth": 0,
              "ticks": ""
             }
            },
            "type": "scatter"
           }
          ],
          "scatter3d": [
           {
            "line": {
             "colorbar": {
              "outlinewidth": 0,
              "ticks": ""
             }
            },
            "marker": {
             "colorbar": {
              "outlinewidth": 0,
              "ticks": ""
             }
            },
            "type": "scatter3d"
           }
          ],
          "scattercarpet": [
           {
            "marker": {
             "colorbar": {
              "outlinewidth": 0,
              "ticks": ""
             }
            },
            "type": "scattercarpet"
           }
          ],
          "scattergeo": [
           {
            "marker": {
             "colorbar": {
              "outlinewidth": 0,
              "ticks": ""
             }
            },
            "type": "scattergeo"
           }
          ],
          "scattergl": [
           {
            "marker": {
             "colorbar": {
              "outlinewidth": 0,
              "ticks": ""
             }
            },
            "type": "scattergl"
           }
          ],
          "scattermapbox": [
           {
            "marker": {
             "colorbar": {
              "outlinewidth": 0,
              "ticks": ""
             }
            },
            "type": "scattermapbox"
           }
          ],
          "scatterpolar": [
           {
            "marker": {
             "colorbar": {
              "outlinewidth": 0,
              "ticks": ""
             }
            },
            "type": "scatterpolar"
           }
          ],
          "scatterpolargl": [
           {
            "marker": {
             "colorbar": {
              "outlinewidth": 0,
              "ticks": ""
             }
            },
            "type": "scatterpolargl"
           }
          ],
          "scatterternary": [
           {
            "marker": {
             "colorbar": {
              "outlinewidth": 0,
              "ticks": ""
             }
            },
            "type": "scatterternary"
           }
          ],
          "surface": [
           {
            "colorbar": {
             "outlinewidth": 0,
             "ticks": ""
            },
            "colorscale": [
             [
              0,
              "#0d0887"
             ],
             [
              0.1111111111111111,
              "#46039f"
             ],
             [
              0.2222222222222222,
              "#7201a8"
             ],
             [
              0.3333333333333333,
              "#9c179e"
             ],
             [
              0.4444444444444444,
              "#bd3786"
             ],
             [
              0.5555555555555556,
              "#d8576b"
             ],
             [
              0.6666666666666666,
              "#ed7953"
             ],
             [
              0.7777777777777778,
              "#fb9f3a"
             ],
             [
              0.8888888888888888,
              "#fdca26"
             ],
             [
              1,
              "#f0f921"
             ]
            ],
            "type": "surface"
           }
          ],
          "table": [
           {
            "cells": {
             "fill": {
              "color": "#EBF0F8"
             },
             "line": {
              "color": "white"
             }
            },
            "header": {
             "fill": {
              "color": "#C8D4E3"
             },
             "line": {
              "color": "white"
             }
            },
            "type": "table"
           }
          ]
         },
         "layout": {
          "annotationdefaults": {
           "arrowcolor": "#2a3f5f",
           "arrowhead": 0,
           "arrowwidth": 1
          },
          "autotypenumbers": "strict",
          "coloraxis": {
           "colorbar": {
            "outlinewidth": 0,
            "ticks": ""
           }
          },
          "colorscale": {
           "diverging": [
            [
             0,
             "#8e0152"
            ],
            [
             0.1,
             "#c51b7d"
            ],
            [
             0.2,
             "#de77ae"
            ],
            [
             0.3,
             "#f1b6da"
            ],
            [
             0.4,
             "#fde0ef"
            ],
            [
             0.5,
             "#f7f7f7"
            ],
            [
             0.6,
             "#e6f5d0"
            ],
            [
             0.7,
             "#b8e186"
            ],
            [
             0.8,
             "#7fbc41"
            ],
            [
             0.9,
             "#4d9221"
            ],
            [
             1,
             "#276419"
            ]
           ],
           "sequential": [
            [
             0,
             "#0d0887"
            ],
            [
             0.1111111111111111,
             "#46039f"
            ],
            [
             0.2222222222222222,
             "#7201a8"
            ],
            [
             0.3333333333333333,
             "#9c179e"
            ],
            [
             0.4444444444444444,
             "#bd3786"
            ],
            [
             0.5555555555555556,
             "#d8576b"
            ],
            [
             0.6666666666666666,
             "#ed7953"
            ],
            [
             0.7777777777777778,
             "#fb9f3a"
            ],
            [
             0.8888888888888888,
             "#fdca26"
            ],
            [
             1,
             "#f0f921"
            ]
           ],
           "sequentialminus": [
            [
             0,
             "#0d0887"
            ],
            [
             0.1111111111111111,
             "#46039f"
            ],
            [
             0.2222222222222222,
             "#7201a8"
            ],
            [
             0.3333333333333333,
             "#9c179e"
            ],
            [
             0.4444444444444444,
             "#bd3786"
            ],
            [
             0.5555555555555556,
             "#d8576b"
            ],
            [
             0.6666666666666666,
             "#ed7953"
            ],
            [
             0.7777777777777778,
             "#fb9f3a"
            ],
            [
             0.8888888888888888,
             "#fdca26"
            ],
            [
             1,
             "#f0f921"
            ]
           ]
          },
          "colorway": [
           "#636efa",
           "#EF553B",
           "#00cc96",
           "#ab63fa",
           "#FFA15A",
           "#19d3f3",
           "#FF6692",
           "#B6E880",
           "#FF97FF",
           "#FECB52"
          ],
          "font": {
           "color": "#2a3f5f"
          },
          "geo": {
           "bgcolor": "white",
           "lakecolor": "white",
           "landcolor": "#E5ECF6",
           "showlakes": true,
           "showland": true,
           "subunitcolor": "white"
          },
          "hoverlabel": {
           "align": "left"
          },
          "hovermode": "closest",
          "mapbox": {
           "style": "light"
          },
          "paper_bgcolor": "white",
          "plot_bgcolor": "#E5ECF6",
          "polar": {
           "angularaxis": {
            "gridcolor": "white",
            "linecolor": "white",
            "ticks": ""
           },
           "bgcolor": "#E5ECF6",
           "radialaxis": {
            "gridcolor": "white",
            "linecolor": "white",
            "ticks": ""
           }
          },
          "scene": {
           "xaxis": {
            "backgroundcolor": "#E5ECF6",
            "gridcolor": "white",
            "gridwidth": 2,
            "linecolor": "white",
            "showbackground": true,
            "ticks": "",
            "zerolinecolor": "white"
           },
           "yaxis": {
            "backgroundcolor": "#E5ECF6",
            "gridcolor": "white",
            "gridwidth": 2,
            "linecolor": "white",
            "showbackground": true,
            "ticks": "",
            "zerolinecolor": "white"
           },
           "zaxis": {
            "backgroundcolor": "#E5ECF6",
            "gridcolor": "white",
            "gridwidth": 2,
            "linecolor": "white",
            "showbackground": true,
            "ticks": "",
            "zerolinecolor": "white"
           }
          },
          "shapedefaults": {
           "line": {
            "color": "#2a3f5f"
           }
          },
          "ternary": {
           "aaxis": {
            "gridcolor": "white",
            "linecolor": "white",
            "ticks": ""
           },
           "baxis": {
            "gridcolor": "white",
            "linecolor": "white",
            "ticks": ""
           },
           "bgcolor": "#E5ECF6",
           "caxis": {
            "gridcolor": "white",
            "linecolor": "white",
            "ticks": ""
           }
          },
          "title": {
           "x": 0.05
          },
          "xaxis": {
           "automargin": true,
           "gridcolor": "white",
           "linecolor": "white",
           "ticks": "",
           "title": {
            "standoff": 15
           },
           "zerolinecolor": "white",
           "zerolinewidth": 2
          },
          "yaxis": {
           "automargin": true,
           "gridcolor": "white",
           "linecolor": "white",
           "ticks": "",
           "title": {
            "standoff": 15
           },
           "zerolinecolor": "white",
           "zerolinewidth": 2
          }
         }
        },
        "title": {
         "text": "PJM East (PJME) Region: estimated energy consumption in Megawatts (MW)"
        },
        "xaxis": {
         "ticklen": 5,
         "title": {
          "text": "Min"
         },
         "zeroline": false
        },
        "yaxis": {
         "ticklen": 5,
         "title": {
          "text": "Value"
         },
         "zeroline": false
        }
       }
      },
      "text/html": [
       "<div>                            <div id=\"2a6654fc-6f05-447e-9746-71cc7f20804a\" class=\"plotly-graph-div\" style=\"height:525px; width:100%;\"></div>            <script type=\"text/javascript\">                require([\"plotly\"], function(Plotly) {                    window.PLOTLYENV=window.PLOTLYENV || {};                                    if (document.getElementById(\"2a6654fc-6f05-447e-9746-71cc7f20804a\")) {                    Plotly.newPlot(                        \"2a6654fc-6f05-447e-9746-71cc7f20804a\",                        [{\"line\":{\"color\":\"rgba(0,0,0, 0.3)\"},\"mode\":\"lines\",\"name\":\"values\",\"text\":[0.0,1.0,2.0,3.0,4.0,5.0,6.0,7.0,8.0,9.0,10.0,11.0,12.0,13.0,14.0,15.0,16.0,17.0,18.0,19.0,20.0,21.0,22.0,23.0,24.0,25.0,26.0,27.0,28.0,29.0,30.0,31.0,32.0,33.0,34.0,35.0,36.0,37.0,38.0,39.0,40.0,41.0,42.0,43.0,44.0,45.0,46.0,47.0,48.0,49.0,50.0,51.0,52.0,53.0,54.0,55.0,56.0,57.0,58.0,59.0,60.0,61.0,62.0,63.0,64.0,65.0,66.0,67.0],\"x\":[0,1,2,3,4,5,6,7,8,9,10,11,12,13,14,15,16,17,18,19,20,21,22,23,24,25,26,27,28,29,30,31,32,33,34,35,36,37,38,39,40,41,42,43,44,45,46,47,48,49,50,51,52,53,54,55,56,57,58,59,60,61,62,63,64,65,66,67],\"y\":[68,68,68,68,68,68,68,68,67,67,67,67,67,67,66,66,66,66,66,66,66,65,65,65,65,65,65,65,64,64,64,64,64,64,64,63,63,63,63,63,63,63,63,62,62,62,62,62,62,62,61,61,61,61,61,61,61,60,60,60,60,60,60,60,60,60,60,60],\"type\":\"scatter\"}],                        {\"template\":{\"data\":{\"barpolar\":[{\"marker\":{\"line\":{\"color\":\"#E5ECF6\",\"width\":0.5},\"pattern\":{\"fillmode\":\"overlay\",\"size\":10,\"solidity\":0.2}},\"type\":\"barpolar\"}],\"bar\":[{\"error_x\":{\"color\":\"#2a3f5f\"},\"error_y\":{\"color\":\"#2a3f5f\"},\"marker\":{\"line\":{\"color\":\"#E5ECF6\",\"width\":0.5},\"pattern\":{\"fillmode\":\"overlay\",\"size\":10,\"solidity\":0.2}},\"type\":\"bar\"}],\"carpet\":[{\"aaxis\":{\"endlinecolor\":\"#2a3f5f\",\"gridcolor\":\"white\",\"linecolor\":\"white\",\"minorgridcolor\":\"white\",\"startlinecolor\":\"#2a3f5f\"},\"baxis\":{\"endlinecolor\":\"#2a3f5f\",\"gridcolor\":\"white\",\"linecolor\":\"white\",\"minorgridcolor\":\"white\",\"startlinecolor\":\"#2a3f5f\"},\"type\":\"carpet\"}],\"choropleth\":[{\"colorbar\":{\"outlinewidth\":0,\"ticks\":\"\"},\"type\":\"choropleth\"}],\"contourcarpet\":[{\"colorbar\":{\"outlinewidth\":0,\"ticks\":\"\"},\"type\":\"contourcarpet\"}],\"contour\":[{\"colorbar\":{\"outlinewidth\":0,\"ticks\":\"\"},\"colorscale\":[[0.0,\"#0d0887\"],[0.1111111111111111,\"#46039f\"],[0.2222222222222222,\"#7201a8\"],[0.3333333333333333,\"#9c179e\"],[0.4444444444444444,\"#bd3786\"],[0.5555555555555556,\"#d8576b\"],[0.6666666666666666,\"#ed7953\"],[0.7777777777777778,\"#fb9f3a\"],[0.8888888888888888,\"#fdca26\"],[1.0,\"#f0f921\"]],\"type\":\"contour\"}],\"heatmapgl\":[{\"colorbar\":{\"outlinewidth\":0,\"ticks\":\"\"},\"colorscale\":[[0.0,\"#0d0887\"],[0.1111111111111111,\"#46039f\"],[0.2222222222222222,\"#7201a8\"],[0.3333333333333333,\"#9c179e\"],[0.4444444444444444,\"#bd3786\"],[0.5555555555555556,\"#d8576b\"],[0.6666666666666666,\"#ed7953\"],[0.7777777777777778,\"#fb9f3a\"],[0.8888888888888888,\"#fdca26\"],[1.0,\"#f0f921\"]],\"type\":\"heatmapgl\"}],\"heatmap\":[{\"colorbar\":{\"outlinewidth\":0,\"ticks\":\"\"},\"colorscale\":[[0.0,\"#0d0887\"],[0.1111111111111111,\"#46039f\"],[0.2222222222222222,\"#7201a8\"],[0.3333333333333333,\"#9c179e\"],[0.4444444444444444,\"#bd3786\"],[0.5555555555555556,\"#d8576b\"],[0.6666666666666666,\"#ed7953\"],[0.7777777777777778,\"#fb9f3a\"],[0.8888888888888888,\"#fdca26\"],[1.0,\"#f0f921\"]],\"type\":\"heatmap\"}],\"histogram2dcontour\":[{\"colorbar\":{\"outlinewidth\":0,\"ticks\":\"\"},\"colorscale\":[[0.0,\"#0d0887\"],[0.1111111111111111,\"#46039f\"],[0.2222222222222222,\"#7201a8\"],[0.3333333333333333,\"#9c179e\"],[0.4444444444444444,\"#bd3786\"],[0.5555555555555556,\"#d8576b\"],[0.6666666666666666,\"#ed7953\"],[0.7777777777777778,\"#fb9f3a\"],[0.8888888888888888,\"#fdca26\"],[1.0,\"#f0f921\"]],\"type\":\"histogram2dcontour\"}],\"histogram2d\":[{\"colorbar\":{\"outlinewidth\":0,\"ticks\":\"\"},\"colorscale\":[[0.0,\"#0d0887\"],[0.1111111111111111,\"#46039f\"],[0.2222222222222222,\"#7201a8\"],[0.3333333333333333,\"#9c179e\"],[0.4444444444444444,\"#bd3786\"],[0.5555555555555556,\"#d8576b\"],[0.6666666666666666,\"#ed7953\"],[0.7777777777777778,\"#fb9f3a\"],[0.8888888888888888,\"#fdca26\"],[1.0,\"#f0f921\"]],\"type\":\"histogram2d\"}],\"histogram\":[{\"marker\":{\"pattern\":{\"fillmode\":\"overlay\",\"size\":10,\"solidity\":0.2}},\"type\":\"histogram\"}],\"mesh3d\":[{\"colorbar\":{\"outlinewidth\":0,\"ticks\":\"\"},\"type\":\"mesh3d\"}],\"parcoords\":[{\"line\":{\"colorbar\":{\"outlinewidth\":0,\"ticks\":\"\"}},\"type\":\"parcoords\"}],\"pie\":[{\"automargin\":true,\"type\":\"pie\"}],\"scatter3d\":[{\"line\":{\"colorbar\":{\"outlinewidth\":0,\"ticks\":\"\"}},\"marker\":{\"colorbar\":{\"outlinewidth\":0,\"ticks\":\"\"}},\"type\":\"scatter3d\"}],\"scattercarpet\":[{\"marker\":{\"colorbar\":{\"outlinewidth\":0,\"ticks\":\"\"}},\"type\":\"scattercarpet\"}],\"scattergeo\":[{\"marker\":{\"colorbar\":{\"outlinewidth\":0,\"ticks\":\"\"}},\"type\":\"scattergeo\"}],\"scattergl\":[{\"marker\":{\"colorbar\":{\"outlinewidth\":0,\"ticks\":\"\"}},\"type\":\"scattergl\"}],\"scattermapbox\":[{\"marker\":{\"colorbar\":{\"outlinewidth\":0,\"ticks\":\"\"}},\"type\":\"scattermapbox\"}],\"scatterpolargl\":[{\"marker\":{\"colorbar\":{\"outlinewidth\":0,\"ticks\":\"\"}},\"type\":\"scatterpolargl\"}],\"scatterpolar\":[{\"marker\":{\"colorbar\":{\"outlinewidth\":0,\"ticks\":\"\"}},\"type\":\"scatterpolar\"}],\"scatter\":[{\"marker\":{\"colorbar\":{\"outlinewidth\":0,\"ticks\":\"\"}},\"type\":\"scatter\"}],\"scatterternary\":[{\"marker\":{\"colorbar\":{\"outlinewidth\":0,\"ticks\":\"\"}},\"type\":\"scatterternary\"}],\"surface\":[{\"colorbar\":{\"outlinewidth\":0,\"ticks\":\"\"},\"colorscale\":[[0.0,\"#0d0887\"],[0.1111111111111111,\"#46039f\"],[0.2222222222222222,\"#7201a8\"],[0.3333333333333333,\"#9c179e\"],[0.4444444444444444,\"#bd3786\"],[0.5555555555555556,\"#d8576b\"],[0.6666666666666666,\"#ed7953\"],[0.7777777777777778,\"#fb9f3a\"],[0.8888888888888888,\"#fdca26\"],[1.0,\"#f0f921\"]],\"type\":\"surface\"}],\"table\":[{\"cells\":{\"fill\":{\"color\":\"#EBF0F8\"},\"line\":{\"color\":\"white\"}},\"header\":{\"fill\":{\"color\":\"#C8D4E3\"},\"line\":{\"color\":\"white\"}},\"type\":\"table\"}]},\"layout\":{\"annotationdefaults\":{\"arrowcolor\":\"#2a3f5f\",\"arrowhead\":0,\"arrowwidth\":1},\"autotypenumbers\":\"strict\",\"coloraxis\":{\"colorbar\":{\"outlinewidth\":0,\"ticks\":\"\"}},\"colorscale\":{\"diverging\":[[0,\"#8e0152\"],[0.1,\"#c51b7d\"],[0.2,\"#de77ae\"],[0.3,\"#f1b6da\"],[0.4,\"#fde0ef\"],[0.5,\"#f7f7f7\"],[0.6,\"#e6f5d0\"],[0.7,\"#b8e186\"],[0.8,\"#7fbc41\"],[0.9,\"#4d9221\"],[1,\"#276419\"]],\"sequential\":[[0.0,\"#0d0887\"],[0.1111111111111111,\"#46039f\"],[0.2222222222222222,\"#7201a8\"],[0.3333333333333333,\"#9c179e\"],[0.4444444444444444,\"#bd3786\"],[0.5555555555555556,\"#d8576b\"],[0.6666666666666666,\"#ed7953\"],[0.7777777777777778,\"#fb9f3a\"],[0.8888888888888888,\"#fdca26\"],[1.0,\"#f0f921\"]],\"sequentialminus\":[[0.0,\"#0d0887\"],[0.1111111111111111,\"#46039f\"],[0.2222222222222222,\"#7201a8\"],[0.3333333333333333,\"#9c179e\"],[0.4444444444444444,\"#bd3786\"],[0.5555555555555556,\"#d8576b\"],[0.6666666666666666,\"#ed7953\"],[0.7777777777777778,\"#fb9f3a\"],[0.8888888888888888,\"#fdca26\"],[1.0,\"#f0f921\"]]},\"colorway\":[\"#636efa\",\"#EF553B\",\"#00cc96\",\"#ab63fa\",\"#FFA15A\",\"#19d3f3\",\"#FF6692\",\"#B6E880\",\"#FF97FF\",\"#FECB52\"],\"font\":{\"color\":\"#2a3f5f\"},\"geo\":{\"bgcolor\":\"white\",\"lakecolor\":\"white\",\"landcolor\":\"#E5ECF6\",\"showlakes\":true,\"showland\":true,\"subunitcolor\":\"white\"},\"hoverlabel\":{\"align\":\"left\"},\"hovermode\":\"closest\",\"mapbox\":{\"style\":\"light\"},\"paper_bgcolor\":\"white\",\"plot_bgcolor\":\"#E5ECF6\",\"polar\":{\"angularaxis\":{\"gridcolor\":\"white\",\"linecolor\":\"white\",\"ticks\":\"\"},\"bgcolor\":\"#E5ECF6\",\"radialaxis\":{\"gridcolor\":\"white\",\"linecolor\":\"white\",\"ticks\":\"\"}},\"scene\":{\"xaxis\":{\"backgroundcolor\":\"#E5ECF6\",\"gridcolor\":\"white\",\"gridwidth\":2,\"linecolor\":\"white\",\"showbackground\":true,\"ticks\":\"\",\"zerolinecolor\":\"white\"},\"yaxis\":{\"backgroundcolor\":\"#E5ECF6\",\"gridcolor\":\"white\",\"gridwidth\":2,\"linecolor\":\"white\",\"showbackground\":true,\"ticks\":\"\",\"zerolinecolor\":\"white\"},\"zaxis\":{\"backgroundcolor\":\"#E5ECF6\",\"gridcolor\":\"white\",\"gridwidth\":2,\"linecolor\":\"white\",\"showbackground\":true,\"ticks\":\"\",\"zerolinecolor\":\"white\"}},\"shapedefaults\":{\"line\":{\"color\":\"#2a3f5f\"}},\"ternary\":{\"aaxis\":{\"gridcolor\":\"white\",\"linecolor\":\"white\",\"ticks\":\"\"},\"baxis\":{\"gridcolor\":\"white\",\"linecolor\":\"white\",\"ticks\":\"\"},\"bgcolor\":\"#E5ECF6\",\"caxis\":{\"gridcolor\":\"white\",\"linecolor\":\"white\",\"ticks\":\"\"}},\"title\":{\"x\":0.05},\"xaxis\":{\"automargin\":true,\"gridcolor\":\"white\",\"linecolor\":\"white\",\"ticks\":\"\",\"title\":{\"standoff\":15},\"zerolinecolor\":\"white\",\"zerolinewidth\":2},\"yaxis\":{\"automargin\":true,\"gridcolor\":\"white\",\"linecolor\":\"white\",\"ticks\":\"\",\"title\":{\"standoff\":15},\"zerolinecolor\":\"white\",\"zerolinewidth\":2}}},\"title\":{\"text\":\"PJM East (PJME) Region: estimated energy consumption in Megawatts (MW)\"},\"xaxis\":{\"ticklen\":5,\"title\":{\"text\":\"Min\"},\"zeroline\":false},\"yaxis\":{\"ticklen\":5,\"title\":{\"text\":\"Value\"},\"zeroline\":false}},                        {\"responsive\": true}                    ).then(function(){\n",
       "                            \n",
       "var gd = document.getElementById('2a6654fc-6f05-447e-9746-71cc7f20804a');\n",
       "var x = new MutationObserver(function (mutations, observer) {{\n",
       "        var display = window.getComputedStyle(gd).display;\n",
       "        if (!display || display === 'none') {{\n",
       "            console.log([gd, 'removed!']);\n",
       "            Plotly.purge(gd);\n",
       "            observer.disconnect();\n",
       "        }}\n",
       "}});\n",
       "\n",
       "// Listen for the removal of the full notebook cells\n",
       "var notebookContainer = gd.closest('#notebook-container');\n",
       "if (notebookContainer) {{\n",
       "    x.observe(notebookContainer, {childList: true});\n",
       "}}\n",
       "\n",
       "// Listen for the clearing of the current output cell\n",
       "var outputEl = gd.closest('.output');\n",
       "if (outputEl) {{\n",
       "    x.observe(outputEl, {childList: true});\n",
       "}}\n",
       "\n",
       "                        })                };                });            </script>        </div>"
      ]
     },
     "metadata": {},
     "output_type": "display_data"
    }
   ],
   "source": [
    "import pandas as pd\n",
    "\n",
    "df = pd.read_csv('BatteryLog_360.csv')\n",
    "\n",
    "df = df.set_index(['min'])\n",
    "if not df.index.is_monotonic:\n",
    "    df = df.sort_index()\n",
    "    \n",
    "df = df.rename(columns={'level': 'value'})\n",
    "plot_dataset(df, title='PJM East (PJME) Region: estimated energy consumption in Megawatts (MW)')"
   ]
  },
  {
   "cell_type": "code",
   "execution_count": 8,
   "id": "6cf71430",
   "metadata": {},
   "outputs": [
    {
     "ename": "ImportError",
     "evalue": "dlopen(/Users/wellimc/opt/miniconda3/lib/python3.8/site-packages/torch/_C.cpython-38-darwin.so, 9): Library not loaded: @rpath/libtorch.dylib\n  Referenced from: /Users/wellimc/opt/miniconda3/lib/python3.8/site-packages/torch/lib/libshm.dylib\n  Reason: image not found",
     "output_type": "error",
     "traceback": [
      "\u001b[0;31m---------------------------------------------------------------------------\u001b[0m",
      "\u001b[0;31mImportError\u001b[0m                               Traceback (most recent call last)",
      "Input \u001b[0;32mIn [8]\u001b[0m, in \u001b[0;36m<cell line: 4>\u001b[0;34m()\u001b[0m\n\u001b[1;32m      2\u001b[0m \u001b[38;5;28;01mimport\u001b[39;00m \u001b[38;5;21;01mmatplotlib\u001b[39;00m\u001b[38;5;21;01m.\u001b[39;00m\u001b[38;5;21;01mpyplot\u001b[39;00m \u001b[38;5;28;01mas\u001b[39;00m \u001b[38;5;21;01mplt\u001b[39;00m\n\u001b[1;32m      3\u001b[0m \u001b[38;5;28;01mimport\u001b[39;00m \u001b[38;5;21;01mpandas\u001b[39;00m \u001b[38;5;28;01mas\u001b[39;00m \u001b[38;5;21;01mpd\u001b[39;00m\n\u001b[0;32m----> 4\u001b[0m \u001b[38;5;28;01mimport\u001b[39;00m \u001b[38;5;21;01mtorch\u001b[39;00m\n\u001b[1;32m      5\u001b[0m \u001b[38;5;28;01mimport\u001b[39;00m \u001b[38;5;21;01mtorch\u001b[39;00m\u001b[38;5;21;01m.\u001b[39;00m\u001b[38;5;21;01mnn\u001b[39;00m \u001b[38;5;28;01mas\u001b[39;00m \u001b[38;5;21;01mnn\u001b[39;00m\n\u001b[1;32m      6\u001b[0m \u001b[38;5;28;01mfrom\u001b[39;00m \u001b[38;5;21;01mtorch\u001b[39;00m\u001b[38;5;21;01m.\u001b[39;00m\u001b[38;5;21;01mautograd\u001b[39;00m \u001b[38;5;28;01mimport\u001b[39;00m Variable\n",
      "File \u001b[0;32m~/opt/miniconda3/lib/python3.8/site-packages/torch/__init__.py:97\u001b[0m, in \u001b[0;36m<module>\u001b[0;34m\u001b[0m\n\u001b[1;32m     93\u001b[0m     sys\u001b[38;5;241m.\u001b[39msetdlopenflags(_dl_flags\u001b[38;5;241m.\u001b[39mRTLD_GLOBAL \u001b[38;5;241m|\u001b[39m _dl_flags\u001b[38;5;241m.\u001b[39mRTLD_LAZY)\n\u001b[1;32m     95\u001b[0m \u001b[38;5;28;01mdel\u001b[39;00m _dl_flags\n\u001b[0;32m---> 97\u001b[0m \u001b[38;5;28;01mfrom\u001b[39;00m \u001b[38;5;21;01mtorch\u001b[39;00m\u001b[38;5;21;01m.\u001b[39;00m\u001b[38;5;21;01m_C\u001b[39;00m \u001b[38;5;28;01mimport\u001b[39;00m \u001b[38;5;241m*\u001b[39m\n\u001b[1;32m     99\u001b[0m __all__ \u001b[38;5;241m+\u001b[39m\u001b[38;5;241m=\u001b[39m [name \u001b[38;5;28;01mfor\u001b[39;00m name \u001b[38;5;129;01min\u001b[39;00m \u001b[38;5;28mdir\u001b[39m(_C)\n\u001b[1;32m    100\u001b[0m             \u001b[38;5;28;01mif\u001b[39;00m name[\u001b[38;5;241m0\u001b[39m] \u001b[38;5;241m!=\u001b[39m \u001b[38;5;124m'\u001b[39m\u001b[38;5;124m_\u001b[39m\u001b[38;5;124m'\u001b[39m \u001b[38;5;129;01mand\u001b[39;00m\n\u001b[1;32m    101\u001b[0m             \u001b[38;5;129;01mnot\u001b[39;00m name\u001b[38;5;241m.\u001b[39mendswith(\u001b[38;5;124m'\u001b[39m\u001b[38;5;124mBase\u001b[39m\u001b[38;5;124m'\u001b[39m)]\n\u001b[1;32m    103\u001b[0m \u001b[38;5;28;01mif\u001b[39;00m platform\u001b[38;5;241m.\u001b[39msystem() \u001b[38;5;241m!=\u001b[39m \u001b[38;5;124m'\u001b[39m\u001b[38;5;124mWindows\u001b[39m\u001b[38;5;124m'\u001b[39m:\n",
      "\u001b[0;31mImportError\u001b[0m: dlopen(/Users/wellimc/opt/miniconda3/lib/python3.8/site-packages/torch/_C.cpython-38-darwin.so, 9): Library not loaded: @rpath/libtorch.dylib\n  Referenced from: /Users/wellimc/opt/miniconda3/lib/python3.8/site-packages/torch/lib/libshm.dylib\n  Reason: image not found"
     ]
    }
   ],
   "source": [
    "import numpy as np\n",
    "import matplotlib.pyplot as plt\n",
    "import pandas as pd\n",
    "import torch\n",
    "import torch.nn as nn\n",
    "from torch.autograd import Variable\n",
    "from sklearn.preprocessing import MinMaxScaler\n",
    "from tensorflow.keras import layers\n",
    "\n",
    "from keras.models import Sequential\n",
    "from keras.layers import Dense\n",
    "from keras.layers import LSTM\n",
    "from keras.layers import Dropout\n",
    "from keras.layers import *\n",
    "\n",
    "\n",
    "\n",
    "\n"
   ]
  },
  {
   "cell_type": "code",
   "execution_count": 9,
   "id": "4877ede4",
   "metadata": {
    "scrolled": true
   },
   "outputs": [
    {
     "data": {
      "image/png": "[encoded data removed]",
      "text/plain": [
       "<Figure size 432x288 with 1 Axes>"
      ]
     },
     "metadata": {
      "needs_background": "light"
     },
     "output_type": "display_data"
    }
   ],
   "source": [
    "training_set = df.iloc[:,:].values\n",
    "plt.plot(training_set, label = 'Airline Passangers Data')\n",
    "plt.show()"
   ]
  },
  {
   "cell_type": "code",
   "execution_count": 37,
   "id": "29c882b9",
   "metadata": {},
   "outputs": [
    {
     "name": "stdout",
     "output_type": "stream",
     "text": [
      "[[[1.   ]\n",
      "  [1.   ]\n",
      "  [1.   ]\n",
      "  [1.   ]\n",
      "  [1.   ]]\n",
      "\n",
      " [[1.   ]\n",
      "  [1.   ]\n",
      "  [1.   ]\n",
      "  [1.   ]\n",
      "  [1.   ]]\n",
      "\n",
      " [[1.   ]\n",
      "  [1.   ]\n",
      "  [1.   ]\n",
      "  [1.   ]\n",
      "  [1.   ]]\n",
      "\n",
      " [[1.   ]\n",
      "  [1.   ]\n",
      "  [1.   ]\n",
      "  [1.   ]\n",
      "  [1.   ]]\n",
      "\n",
      " [[1.   ]\n",
      "  [1.   ]\n",
      "  [1.   ]\n",
      "  [1.   ]\n",
      "  [0.875]]\n",
      "\n",
      " [[1.   ]\n",
      "  [1.   ]\n",
      "  [1.   ]\n",
      "  [0.875]\n",
      "  [0.875]]\n",
      "\n",
      " [[1.   ]\n",
      "  [1.   ]\n",
      "  [0.875]\n",
      "  [0.875]\n",
      "  [0.875]]\n",
      "\n",
      " [[1.   ]\n",
      "  [0.875]\n",
      "  [0.875]\n",
      "  [0.875]\n",
      "  [0.875]]\n",
      "\n",
      " [[0.875]\n",
      "  [0.875]\n",
      "  [0.875]\n",
      "  [0.875]\n",
      "  [0.875]]\n",
      "\n",
      " [[0.875]\n",
      "  [0.875]\n",
      "  [0.875]\n",
      "  [0.875]\n",
      "  [0.875]]\n",
      "\n",
      " [[0.875]\n",
      "  [0.875]\n",
      "  [0.875]\n",
      "  [0.875]\n",
      "  [0.75 ]]\n",
      "\n",
      " [[0.875]\n",
      "  [0.875]\n",
      "  [0.875]\n",
      "  [0.75 ]\n",
      "  [0.75 ]]\n",
      "\n",
      " [[0.875]\n",
      "  [0.875]\n",
      "  [0.75 ]\n",
      "  [0.75 ]\n",
      "  [0.75 ]]\n",
      "\n",
      " [[0.875]\n",
      "  [0.75 ]\n",
      "  [0.75 ]\n",
      "  [0.75 ]\n",
      "  [0.75 ]]\n",
      "\n",
      " [[0.75 ]\n",
      "  [0.75 ]\n",
      "  [0.75 ]\n",
      "  [0.75 ]\n",
      "  [0.75 ]]\n",
      "\n",
      " [[0.75 ]\n",
      "  [0.75 ]\n",
      "  [0.75 ]\n",
      "  [0.75 ]\n",
      "  [0.75 ]]\n",
      "\n",
      " [[0.75 ]\n",
      "  [0.75 ]\n",
      "  [0.75 ]\n",
      "  [0.75 ]\n",
      "  [0.75 ]]\n",
      "\n",
      " [[0.75 ]\n",
      "  [0.75 ]\n",
      "  [0.75 ]\n",
      "  [0.75 ]\n",
      "  [0.625]]\n",
      "\n",
      " [[0.75 ]\n",
      "  [0.75 ]\n",
      "  [0.75 ]\n",
      "  [0.625]\n",
      "  [0.625]]\n",
      "\n",
      " [[0.75 ]\n",
      "  [0.75 ]\n",
      "  [0.625]\n",
      "  [0.625]\n",
      "  [0.625]]\n",
      "\n",
      " [[0.75 ]\n",
      "  [0.625]\n",
      "  [0.625]\n",
      "  [0.625]\n",
      "  [0.625]]\n",
      "\n",
      " [[0.625]\n",
      "  [0.625]\n",
      "  [0.625]\n",
      "  [0.625]\n",
      "  [0.625]]\n",
      "\n",
      " [[0.625]\n",
      "  [0.625]\n",
      "  [0.625]\n",
      "  [0.625]\n",
      "  [0.625]]\n",
      "\n",
      " [[0.625]\n",
      "  [0.625]\n",
      "  [0.625]\n",
      "  [0.625]\n",
      "  [0.625]]\n",
      "\n",
      " [[0.625]\n",
      "  [0.625]\n",
      "  [0.625]\n",
      "  [0.625]\n",
      "  [0.5  ]]\n",
      "\n",
      " [[0.625]\n",
      "  [0.625]\n",
      "  [0.625]\n",
      "  [0.5  ]\n",
      "  [0.5  ]]\n",
      "\n",
      " [[0.625]\n",
      "  [0.625]\n",
      "  [0.5  ]\n",
      "  [0.5  ]\n",
      "  [0.5  ]]\n",
      "\n",
      " [[0.625]\n",
      "  [0.5  ]\n",
      "  [0.5  ]\n",
      "  [0.5  ]\n",
      "  [0.5  ]]\n",
      "\n",
      " [[0.5  ]\n",
      "  [0.5  ]\n",
      "  [0.5  ]\n",
      "  [0.5  ]\n",
      "  [0.5  ]]\n",
      "\n",
      " [[0.5  ]\n",
      "  [0.5  ]\n",
      "  [0.5  ]\n",
      "  [0.5  ]\n",
      "  [0.5  ]]\n",
      "\n",
      " [[0.5  ]\n",
      "  [0.5  ]\n",
      "  [0.5  ]\n",
      "  [0.5  ]\n",
      "  [0.5  ]]\n",
      "\n",
      " [[0.5  ]\n",
      "  [0.5  ]\n",
      "  [0.5  ]\n",
      "  [0.5  ]\n",
      "  [0.375]]\n",
      "\n",
      " [[0.5  ]\n",
      "  [0.5  ]\n",
      "  [0.5  ]\n",
      "  [0.375]\n",
      "  [0.375]]\n",
      "\n",
      " [[0.5  ]\n",
      "  [0.5  ]\n",
      "  [0.375]\n",
      "  [0.375]\n",
      "  [0.375]]\n",
      "\n",
      " [[0.5  ]\n",
      "  [0.375]\n",
      "  [0.375]\n",
      "  [0.375]\n",
      "  [0.375]]\n",
      "\n",
      " [[0.375]\n",
      "  [0.375]\n",
      "  [0.375]\n",
      "  [0.375]\n",
      "  [0.375]]\n",
      "\n",
      " [[0.375]\n",
      "  [0.375]\n",
      "  [0.375]\n",
      "  [0.375]\n",
      "  [0.375]]\n",
      "\n",
      " [[0.375]\n",
      "  [0.375]\n",
      "  [0.375]\n",
      "  [0.375]\n",
      "  [0.375]]\n",
      "\n",
      " [[0.375]\n",
      "  [0.375]\n",
      "  [0.375]\n",
      "  [0.375]\n",
      "  [0.375]]\n",
      "\n",
      " [[0.375]\n",
      "  [0.375]\n",
      "  [0.375]\n",
      "  [0.375]\n",
      "  [0.25 ]]\n",
      "\n",
      " [[0.375]\n",
      "  [0.375]\n",
      "  [0.375]\n",
      "  [0.25 ]\n",
      "  [0.25 ]]\n",
      "\n",
      " [[0.375]\n",
      "  [0.375]\n",
      "  [0.25 ]\n",
      "  [0.25 ]\n",
      "  [0.25 ]]\n",
      "\n",
      " [[0.375]\n",
      "  [0.25 ]\n",
      "  [0.25 ]\n",
      "  [0.25 ]\n",
      "  [0.25 ]]\n",
      "\n",
      " [[0.25 ]\n",
      "  [0.25 ]\n",
      "  [0.25 ]\n",
      "  [0.25 ]\n",
      "  [0.25 ]]\n",
      "\n",
      " [[0.25 ]\n",
      "  [0.25 ]\n",
      "  [0.25 ]\n",
      "  [0.25 ]\n",
      "  [0.25 ]]\n",
      "\n",
      " [[0.25 ]\n",
      "  [0.25 ]\n",
      "  [0.25 ]\n",
      "  [0.25 ]\n",
      "  [0.25 ]]\n",
      "\n",
      " [[0.25 ]\n",
      "  [0.25 ]\n",
      "  [0.25 ]\n",
      "  [0.25 ]\n",
      "  [0.125]]\n",
      "\n",
      " [[0.25 ]\n",
      "  [0.25 ]\n",
      "  [0.25 ]\n",
      "  [0.125]\n",
      "  [0.125]]\n",
      "\n",
      " [[0.25 ]\n",
      "  [0.25 ]\n",
      "  [0.125]\n",
      "  [0.125]\n",
      "  [0.125]]\n",
      "\n",
      " [[0.25 ]\n",
      "  [0.125]\n",
      "  [0.125]\n",
      "  [0.125]\n",
      "  [0.125]]\n",
      "\n",
      " [[0.125]\n",
      "  [0.125]\n",
      "  [0.125]\n",
      "  [0.125]\n",
      "  [0.125]]\n",
      "\n",
      " [[0.125]\n",
      "  [0.125]\n",
      "  [0.125]\n",
      "  [0.125]\n",
      "  [0.125]]\n",
      "\n",
      " [[0.125]\n",
      "  [0.125]\n",
      "  [0.125]\n",
      "  [0.125]\n",
      "  [0.125]]\n",
      "\n",
      " [[0.125]\n",
      "  [0.125]\n",
      "  [0.125]\n",
      "  [0.125]\n",
      "  [0.   ]]\n",
      "\n",
      " [[0.125]\n",
      "  [0.125]\n",
      "  [0.125]\n",
      "  [0.   ]\n",
      "  [0.   ]]\n",
      "\n",
      " [[0.125]\n",
      "  [0.125]\n",
      "  [0.   ]\n",
      "  [0.   ]\n",
      "  [0.   ]]\n",
      "\n",
      " [[0.125]\n",
      "  [0.   ]\n",
      "  [0.   ]\n",
      "  [0.   ]\n",
      "  [0.   ]]\n",
      "\n",
      " [[0.   ]\n",
      "  [0.   ]\n",
      "  [0.   ]\n",
      "  [0.   ]\n",
      "  [0.   ]]\n",
      "\n",
      " [[0.   ]\n",
      "  [0.   ]\n",
      "  [0.   ]\n",
      "  [0.   ]\n",
      "  [0.   ]]\n",
      "\n",
      " [[0.   ]\n",
      "  [0.   ]\n",
      "  [0.   ]\n",
      "  [0.   ]\n",
      "  [0.   ]]\n",
      "\n",
      " [[0.   ]\n",
      "  [0.   ]\n",
      "  [0.   ]\n",
      "  [0.   ]\n",
      "  [0.   ]]\n",
      "\n",
      " [[0.   ]\n",
      "  [0.   ]\n",
      "  [0.   ]\n",
      "  [0.   ]\n",
      "  [0.   ]]]\n"
     ]
    }
   ],
   "source": [
    "def sliding_windows(data, seq_length):\n",
    "    x = []\n",
    "    y = []\n",
    "\n",
    "    for i in range(len(data)-seq_length-1):\n",
    "        _x = data[i:(i+seq_length)]\n",
    "        _y = data[i+seq_length]\n",
    "        x.append(_x)\n",
    "        y.append(_y)\n",
    "\n",
    "    return np.array(x),np.array(y)\n",
    "\n",
    "sc = MinMaxScaler()\n",
    "training_data = sc.fit_transform(training_set)\n",
    "training_data\n",
    "\n",
    "seq_length = 5\n",
    "x, y = sliding_windows(training_data, seq_length)\n",
    "\n",
    "train_size = int(len(y) * 0.67)\n",
    "test_size = len(y) - train_size\n",
    "print(x)\n",
    "\n",
    "dataX = Variable(torch.Tensor(np.array(x)))\n",
    "dataY = Variable(torch.Tensor(np.array(y)))\n",
    "\n",
    "trainX = Variable(torch.Tensor(np.array(x[0:train_size])))\n",
    "trainY = Variable(torch.Tensor(np.array(y[0:train_size])))\n",
    "\n",
    "\n",
    "testX = Variable(torch.Tensor(np.array(x[train_size:len(x)])))\n",
    "testY = Variable(torch.Tensor(np.array(y[train_size:len(y)])))"
   ]
  },
  {
   "cell_type": "code",
   "execution_count": 7,
   "id": "95ac5d9f",
   "metadata": {},
   "outputs": [],
   "source": [
    "class LSTM(nn.Module):\n",
    "\n",
    "    def __init__(self, num_classes, input_size, hidden_size, num_layers):\n",
    "        super(LSTM, self).__init__()\n",
    "        \n",
    "        self.num_classes = num_classes\n",
    "        self.num_layers = num_layers\n",
    "        self.input_size = input_size\n",
    "        self.hidden_size = hidden_size\n",
    "        self.seq_length = seq_length\n",
    "        \n",
    "        self.lstm = nn.LSTM(input_size=input_size, hidden_size=hidden_size,\n",
    "                            num_layers=num_layers, batch_first=True)\n",
    "        \n",
    "        self.fc = nn.Linear(hidden_size, num_classes)\n",
    "\n",
    "    def forward(self, x):\n",
    "        h_0 = Variable(torch.zeros(\n",
    "            self.num_layers, x.size(0), self.hidden_size))\n",
    "        \n",
    "        c_0 = Variable(torch.zeros(\n",
    "            self.num_layers, x.size(0), self.hidden_size))\n",
    "        \n",
    "        # Propagate input through LSTM\n",
    "        ula, (h_out, _) = self.lstm(x, (h_0, c_0))\n",
    "        \n",
    "        h_out = h_out.view(-1, self.hidden_size)\n",
    "        \n",
    "        out = self.fc(h_out)\n",
    "        \n",
    "        return out"
   ]
  },
  {
   "cell_type": "code",
   "execution_count": 8,
   "id": "888feb44",
   "metadata": {},
   "outputs": [
    {
     "name": "stdout",
     "output_type": "stream",
     "text": [
      "Epoch: 0, loss: 1.50544\n",
      "Epoch: 100, loss: 0.04046\n",
      "Epoch: 200, loss: 0.02874\n",
      "Epoch: 300, loss: 0.01305\n",
      "Epoch: 400, loss: 0.00200\n",
      "Epoch: 500, loss: 0.00199\n",
      "Epoch: 600, loss: 0.00198\n",
      "Epoch: 700, loss: 0.00197\n",
      "Epoch: 800, loss: 0.00196\n",
      "Epoch: 900, loss: 0.00195\n",
      "Epoch: 1000, loss: 0.00194\n",
      "Epoch: 1100, loss: 0.00194\n",
      "Epoch: 1200, loss: 0.00193\n",
      "Epoch: 1300, loss: 0.00192\n",
      "Epoch: 1400, loss: 0.00191\n",
      "Epoch: 1500, loss: 0.00190\n",
      "Epoch: 1600, loss: 0.00189\n",
      "Epoch: 1700, loss: 0.00188\n",
      "Epoch: 1800, loss: 0.00188\n",
      "Epoch: 1900, loss: 0.00187\n",
      "Epoch: 2000, loss: 0.00186\n",
      "Epoch: 2100, loss: 0.00185\n",
      "Epoch: 2200, loss: 0.00185\n",
      "Epoch: 2300, loss: 0.00184\n",
      "Epoch: 2400, loss: 0.00183\n",
      "Epoch: 2500, loss: 0.00183\n",
      "Epoch: 2600, loss: 0.00182\n",
      "Epoch: 2700, loss: 0.00182\n",
      "Epoch: 2800, loss: 0.00181\n",
      "Epoch: 2900, loss: 0.00181\n"
     ]
    }
   ],
   "source": [
    "num_epochs = 3000\n",
    "learning_rate = 0.01\n",
    "\n",
    "input_size = 1\n",
    "hidden_size = 2\n",
    "num_layers = 1\n",
    "\n",
    "num_classes = 1\n",
    "\n",
    "lstm = LSTM(num_classes, input_size, hidden_size, num_layers)\n",
    "\n",
    "criterion = torch.nn.MSELoss()    # mean-squared error for regression\n",
    "optimizer = torch.optim.Adam(lstm.parameters(), lr=learning_rate)\n",
    "#optimizer = torch.optim.SGD(lstm.parameters(), lr=learning_rate)\n",
    "\n",
    "# Train the model\n",
    "for epoch in range(num_epochs):\n",
    "    outputs = lstm(trainX)\n",
    "   # print(outputs)\n",
    "    optimizer.zero_grad()\n",
    "    \n",
    "    # obtain the loss function\n",
    "    loss = criterion(outputs, trainY)\n",
    "    \n",
    "    loss.backward()\n",
    "    \n",
    "    optimizer.step()\n",
    "    if epoch % 100 == 0:\n",
    "      print(\"Epoch: %d, loss: %1.5f\" % (epoch, loss.item()))"
   ]
  },
  {
   "cell_type": "code",
   "execution_count": 9,
   "id": "1d026873",
   "metadata": {},
   "outputs": [
    {
     "data": {
      "image/png": "[encoded data removed]",
      "text/plain": [
       "<Figure size 432x288 with 1 Axes>"
      ]
     },
     "metadata": {
      "needs_background": "light"
     },
     "output_type": "display_data"
    }
   ],
   "source": [
    "lstm.eval()\n",
    "torch.save(lstm.state_dict(), 'my_model.pt')\n",
    "train_predict = lstm(dataX)\n",
    "data_predict = train_predict.data.numpy()\n",
    "dataY_plot = dataY.data.numpy()\n",
    "\n",
    "data_predict = sc.inverse_transform(data_predict)\n",
    "dataY_plot = sc.inverse_transform(dataY_plot)\n",
    "\n",
    "plt.axvline(x=train_size, c='r', linestyle='--')\n",
    "\n",
    "plt.plot(dataY_plot)\n",
    "plt.plot(data_predict)\n",
    "plt.suptitle('Time-Series Prediction')\n",
    "plt.show()\n"
   ]
  },
  {
   "cell_type": "code",
   "execution_count": 10,
   "id": "0297b758",
   "metadata": {},
   "outputs": [
    {
     "name": "stdout",
     "output_type": "stream",
     "text": [
      "tensor([[[1.0000],\n",
      "         [1.0000],\n",
      "         [1.0000],\n",
      "         [1.0000],\n",
      "         [1.0000]],\n",
      "\n",
      "        [[1.0000],\n",
      "         [1.0000],\n",
      "         [1.0000],\n",
      "         [1.0000],\n",
      "         [1.0000]],\n",
      "\n",
      "        [[1.0000],\n",
      "         [1.0000],\n",
      "         [1.0000],\n",
      "         [1.0000],\n",
      "         [1.0000]],\n",
      "\n",
      "        [[1.0000],\n",
      "         [1.0000],\n",
      "         [1.0000],\n",
      "         [1.0000],\n",
      "         [1.0000]],\n",
      "\n",
      "        [[1.0000],\n",
      "         [1.0000],\n",
      "         [1.0000],\n",
      "         [1.0000],\n",
      "         [0.8750]],\n",
      "\n",
      "        [[1.0000],\n",
      "         [1.0000],\n",
      "         [1.0000],\n",
      "         [0.8750],\n",
      "         [0.8750]],\n",
      "\n",
      "        [[1.0000],\n",
      "         [1.0000],\n",
      "         [0.8750],\n",
      "         [0.8750],\n",
      "         [0.8750]],\n",
      "\n",
      "        [[1.0000],\n",
      "         [0.8750],\n",
      "         [0.8750],\n",
      "         [0.8750],\n",
      "         [0.8750]],\n",
      "\n",
      "        [[0.8750],\n",
      "         [0.8750],\n",
      "         [0.8750],\n",
      "         [0.8750],\n",
      "         [0.8750]],\n",
      "\n",
      "        [[0.8750],\n",
      "         [0.8750],\n",
      "         [0.8750],\n",
      "         [0.8750],\n",
      "         [0.8750]],\n",
      "\n",
      "        [[0.8750],\n",
      "         [0.8750],\n",
      "         [0.8750],\n",
      "         [0.8750],\n",
      "         [0.7500]],\n",
      "\n",
      "        [[0.8750],\n",
      "         [0.8750],\n",
      "         [0.8750],\n",
      "         [0.7500],\n",
      "         [0.7500]],\n",
      "\n",
      "        [[0.8750],\n",
      "         [0.8750],\n",
      "         [0.7500],\n",
      "         [0.7500],\n",
      "         [0.7500]],\n",
      "\n",
      "        [[0.8750],\n",
      "         [0.7500],\n",
      "         [0.7500],\n",
      "         [0.7500],\n",
      "         [0.7500]],\n",
      "\n",
      "        [[0.7500],\n",
      "         [0.7500],\n",
      "         [0.7500],\n",
      "         [0.7500],\n",
      "         [0.7500]],\n",
      "\n",
      "        [[0.7500],\n",
      "         [0.7500],\n",
      "         [0.7500],\n",
      "         [0.7500],\n",
      "         [0.7500]],\n",
      "\n",
      "        [[0.7500],\n",
      "         [0.7500],\n",
      "         [0.7500],\n",
      "         [0.7500],\n",
      "         [0.7500]],\n",
      "\n",
      "        [[0.7500],\n",
      "         [0.7500],\n",
      "         [0.7500],\n",
      "         [0.7500],\n",
      "         [0.6250]],\n",
      "\n",
      "        [[0.7500],\n",
      "         [0.7500],\n",
      "         [0.7500],\n",
      "         [0.6250],\n",
      "         [0.6250]],\n",
      "\n",
      "        [[0.7500],\n",
      "         [0.7500],\n",
      "         [0.6250],\n",
      "         [0.6250],\n",
      "         [0.6250]],\n",
      "\n",
      "        [[0.7500],\n",
      "         [0.6250],\n",
      "         [0.6250],\n",
      "         [0.6250],\n",
      "         [0.6250]],\n",
      "\n",
      "        [[0.6250],\n",
      "         [0.6250],\n",
      "         [0.6250],\n",
      "         [0.6250],\n",
      "         [0.6250]],\n",
      "\n",
      "        [[0.6250],\n",
      "         [0.6250],\n",
      "         [0.6250],\n",
      "         [0.6250],\n",
      "         [0.6250]],\n",
      "\n",
      "        [[0.6250],\n",
      "         [0.6250],\n",
      "         [0.6250],\n",
      "         [0.6250],\n",
      "         [0.6250]],\n",
      "\n",
      "        [[0.6250],\n",
      "         [0.6250],\n",
      "         [0.6250],\n",
      "         [0.6250],\n",
      "         [0.5000]],\n",
      "\n",
      "        [[0.6250],\n",
      "         [0.6250],\n",
      "         [0.6250],\n",
      "         [0.5000],\n",
      "         [0.5000]],\n",
      "\n",
      "        [[0.6250],\n",
      "         [0.6250],\n",
      "         [0.5000],\n",
      "         [0.5000],\n",
      "         [0.5000]],\n",
      "\n",
      "        [[0.6250],\n",
      "         [0.5000],\n",
      "         [0.5000],\n",
      "         [0.5000],\n",
      "         [0.5000]],\n",
      "\n",
      "        [[0.5000],\n",
      "         [0.5000],\n",
      "         [0.5000],\n",
      "         [0.5000],\n",
      "         [0.5000]],\n",
      "\n",
      "        [[0.5000],\n",
      "         [0.5000],\n",
      "         [0.5000],\n",
      "         [0.5000],\n",
      "         [0.5000]],\n",
      "\n",
      "        [[0.5000],\n",
      "         [0.5000],\n",
      "         [0.5000],\n",
      "         [0.5000],\n",
      "         [0.5000]],\n",
      "\n",
      "        [[0.5000],\n",
      "         [0.5000],\n",
      "         [0.5000],\n",
      "         [0.5000],\n",
      "         [0.3750]],\n",
      "\n",
      "        [[0.5000],\n",
      "         [0.5000],\n",
      "         [0.5000],\n",
      "         [0.3750],\n",
      "         [0.3750]],\n",
      "\n",
      "        [[0.5000],\n",
      "         [0.5000],\n",
      "         [0.3750],\n",
      "         [0.3750],\n",
      "         [0.3750]],\n",
      "\n",
      "        [[0.5000],\n",
      "         [0.3750],\n",
      "         [0.3750],\n",
      "         [0.3750],\n",
      "         [0.3750]],\n",
      "\n",
      "        [[0.3750],\n",
      "         [0.3750],\n",
      "         [0.3750],\n",
      "         [0.3750],\n",
      "         [0.3750]],\n",
      "\n",
      "        [[0.3750],\n",
      "         [0.3750],\n",
      "         [0.3750],\n",
      "         [0.3750],\n",
      "         [0.3750]],\n",
      "\n",
      "        [[0.3750],\n",
      "         [0.3750],\n",
      "         [0.3750],\n",
      "         [0.3750],\n",
      "         [0.3750]],\n",
      "\n",
      "        [[0.3750],\n",
      "         [0.3750],\n",
      "         [0.3750],\n",
      "         [0.3750],\n",
      "         [0.3750]],\n",
      "\n",
      "        [[0.3750],\n",
      "         [0.3750],\n",
      "         [0.3750],\n",
      "         [0.3750],\n",
      "         [0.2500]],\n",
      "\n",
      "        [[0.3750],\n",
      "         [0.3750],\n",
      "         [0.3750],\n",
      "         [0.2500],\n",
      "         [0.2500]],\n",
      "\n",
      "        [[0.3750],\n",
      "         [0.3750],\n",
      "         [0.2500],\n",
      "         [0.2500],\n",
      "         [0.2500]],\n",
      "\n",
      "        [[0.3750],\n",
      "         [0.2500],\n",
      "         [0.2500],\n",
      "         [0.2500],\n",
      "         [0.2500]],\n",
      "\n",
      "        [[0.2500],\n",
      "         [0.2500],\n",
      "         [0.2500],\n",
      "         [0.2500],\n",
      "         [0.2500]],\n",
      "\n",
      "        [[0.2500],\n",
      "         [0.2500],\n",
      "         [0.2500],\n",
      "         [0.2500],\n",
      "         [0.2500]],\n",
      "\n",
      "        [[0.2500],\n",
      "         [0.2500],\n",
      "         [0.2500],\n",
      "         [0.2500],\n",
      "         [0.2500]],\n",
      "\n",
      "        [[0.2500],\n",
      "         [0.2500],\n",
      "         [0.2500],\n",
      "         [0.2500],\n",
      "         [0.1250]],\n",
      "\n",
      "        [[0.2500],\n",
      "         [0.2500],\n",
      "         [0.2500],\n",
      "         [0.1250],\n",
      "         [0.1250]],\n",
      "\n",
      "        [[0.2500],\n",
      "         [0.2500],\n",
      "         [0.1250],\n",
      "         [0.1250],\n",
      "         [0.1250]],\n",
      "\n",
      "        [[0.2500],\n",
      "         [0.1250],\n",
      "         [0.1250],\n",
      "         [0.1250],\n",
      "         [0.1250]],\n",
      "\n",
      "        [[0.1250],\n",
      "         [0.1250],\n",
      "         [0.1250],\n",
      "         [0.1250],\n",
      "         [0.1250]],\n",
      "\n",
      "        [[0.1250],\n",
      "         [0.1250],\n",
      "         [0.1250],\n",
      "         [0.1250],\n",
      "         [0.1250]],\n",
      "\n",
      "        [[0.1250],\n",
      "         [0.1250],\n",
      "         [0.1250],\n",
      "         [0.1250],\n",
      "         [0.1250]],\n",
      "\n",
      "        [[0.1250],\n",
      "         [0.1250],\n",
      "         [0.1250],\n",
      "         [0.1250],\n",
      "         [0.0000]],\n",
      "\n",
      "        [[0.1250],\n",
      "         [0.1250],\n",
      "         [0.1250],\n",
      "         [0.0000],\n",
      "         [0.0000]],\n",
      "\n",
      "        [[0.1250],\n",
      "         [0.1250],\n",
      "         [0.0000],\n",
      "         [0.0000],\n",
      "         [0.0000]],\n",
      "\n",
      "        [[0.1250],\n",
      "         [0.0000],\n",
      "         [0.0000],\n",
      "         [0.0000],\n",
      "         [0.0000]],\n",
      "\n",
      "        [[0.0000],\n",
      "         [0.0000],\n",
      "         [0.0000],\n",
      "         [0.0000],\n",
      "         [0.0000]],\n",
      "\n",
      "        [[0.0000],\n",
      "         [0.0000],\n",
      "         [0.0000],\n",
      "         [0.0000],\n",
      "         [0.0000]],\n",
      "\n",
      "        [[0.0000],\n",
      "         [0.0000],\n",
      "         [0.0000],\n",
      "         [0.0000],\n",
      "         [0.0000]],\n",
      "\n",
      "        [[0.0000],\n",
      "         [0.0000],\n",
      "         [0.0000],\n",
      "         [0.0000],\n",
      "         [0.0000]],\n",
      "\n",
      "        [[0.0000],\n",
      "         [0.0000],\n",
      "         [0.0000],\n",
      "         [0.0000],\n",
      "         [0.0000]]])\n"
     ]
    }
   ],
   "source": [
    "print(dataX)"
   ]
  },
  {
   "cell_type": "code",
   "execution_count": 11,
   "id": "59c44d58",
   "metadata": {},
   "outputs": [
    {
     "name": "stdout",
     "output_type": "stream",
     "text": [
      "[[68]\n",
      " [69]\n",
      " [70]\n",
      " [71]\n",
      " [72]]\n",
      "[[67.945274]\n",
      " [68.234116]\n",
      " [68.590614]\n",
      " [68.985214]\n",
      " [69.37674 ]]\n"
     ]
    }
   ],
   "source": [
    "df_predict_data = pd.read_csv('BatteryLog_360_test.csv')\n",
    "    \n",
    "df_predict_data = df_predict_data.iloc[:,:].values\n",
    "print(df_predict_data)\n",
    "\n",
    "df_predict_set_data = sc.fit_transform(df_predict_data)\n",
    "arra_x =  torch.Tensor(np.array(df_predict_set_data).reshape(5, 1, 1))\n",
    "#arra_y =  torch.Tensor(np.array(test_y).reshape(5,1))\n",
    "\n",
    "#df_predict_set_data\n",
    "tensor_data = torch.Tensor(df_predict_set_data)\n",
    "\n",
    "#flatten_data = torch.flatten(tensor_data, start_dim=0, end_dim=1)\n",
    "#print(flatten_data)\n",
    "\n",
    "#X = Variable(torch.Tensor(np.array(df_predict_set_data)))\n",
    "\n",
    "outputs_test = lstm(arra_x)\n",
    "                       \n",
    "data_test= outputs_test.data.numpy()\n",
    "#dataY_test_plot = arra_y.data.numpy()\n",
    "                       \n",
    "data_test = sc.inverse_transform(data_test)\n",
    "#dataY_test_plot = sc.inverse_transform(dataY_test_plot)\n",
    "                       \n",
    "print(data_test)\n",
    "#training_data = sc.fit_transform(predict_data)\n",
    "#training_data"
   ]
  },
  {
   "cell_type": "code",
   "execution_count": 12,
   "id": "45f0f2d0",
   "metadata": {},
   "outputs": [],
   "source": [
    "test_predict = outputs_test.data.numpy()"
   ]
  },
  {
   "cell_type": "code",
   "execution_count": 13,
   "id": "64eb7d2f",
   "metadata": {},
   "outputs": [
    {
     "name": "stdout",
     "output_type": "stream",
     "text": [
      "[[-0.01368231]\n",
      " [ 0.05852985]\n",
      " [ 0.14765441]\n",
      " [ 0.2463029 ]\n",
      " [ 0.34418583]]\n"
     ]
    }
   ],
   "source": [
    "print(test_predict)"
   ]
  },
  {
   "cell_type": "code",
   "execution_count": 14,
   "id": "0198bf4d",
   "metadata": {},
   "outputs": [],
   "source": [
    "test_predict = sc.inverse_transform(test_predict)"
   ]
  },
  {
   "cell_type": "code",
   "execution_count": 15,
   "id": "59440ed2",
   "metadata": {},
   "outputs": [
    {
     "name": "stdout",
     "output_type": "stream",
     "text": [
      "[[67.945274]\n",
      " [68.234116]\n",
      " [68.590614]\n",
      " [68.985214]\n",
      " [69.37674 ]]\n"
     ]
    }
   ],
   "source": [
    "print(test_predict)"
   ]
  },
  {
   "cell_type": "code",
   "execution_count": 16,
   "id": "f59b7f5b",
   "metadata": {},
   "outputs": [
    {
     "ename": "NameError",
     "evalue": "name 'level' is not defined",
     "output_type": "error",
     "traceback": [
      "\u001b[0;31m---------------------------------------------------------------------------\u001b[0m",
      "\u001b[0;31mNameError\u001b[0m                                 Traceback (most recent call last)",
      "Input \u001b[0;32mIn [16]\u001b[0m, in \u001b[0;36m<cell line: 1>\u001b[0;34m()\u001b[0m\n\u001b[1;32m      1\u001b[0m Machine_Df \u001b[38;5;241m=\u001b[39m pd\u001b[38;5;241m.\u001b[39mDataFrame(data\u001b[38;5;241m=\u001b[39m{\n\u001b[1;32m      2\u001b[0m     \u001b[38;5;124m\"\u001b[39m\u001b[38;5;124mDate\u001b[39m\u001b[38;5;124m\"\u001b[39m:\u001b[38;5;28mmin\u001b[39m,\n\u001b[0;32m----> 3\u001b[0m     \u001b[38;5;124m\"\u001b[39m\u001b[38;5;124mlevel\u001b[39m\u001b[38;5;124m\"\u001b[39m: \u001b[43mlevel\u001b[49m,\n\u001b[1;32m      4\u001b[0m     \u001b[38;5;124m\"\u001b[39m\u001b[38;5;124mPredictedMeagWatt\u001b[39m\u001b[38;5;124m\"\u001b[39m:[x[\u001b[38;5;241m0\u001b[39m] \u001b[38;5;28;01mfor\u001b[39;00m x \u001b[38;5;129;01min\u001b[39;00m Predicted_MegaWatt ]\n\u001b[1;32m      5\u001b[0m })\n",
      "\u001b[0;31mNameError\u001b[0m: name 'level' is not defined"
     ]
    }
   ],
   "source": [
    "Machine_Df = pd.DataFrame(data={\n",
    "    \"Date\":min,\n",
    "    \"level\": level,\n",
    "    \"PredictedMeagWatt\":[x[0] for x in Predicted_MegaWatt ]\n",
    "print(X_Train.shape)\n",
    "print(Y_Train.shape)})"
   ]
  },
  {
   "cell_type": "code",
   "execution_count": 21,
   "id": "ff0f2b07",
   "metadata": {},
   "outputs": [
    {
     "name": "stdout",
     "output_type": "stream",
     "text": [
      "(41, 5, 1)\n",
      "(41, 1)\n"
     ]
    }
   ],
   "source": [
    "trainX_new = np.array(x[0:train_size])\n",
    "trainY_new = np.array(y[0:train_size])\n",
    "\n",
    "print(trainX_new.shape)\n",
    "print(trainY_new.shape)"
   ]
  },
  {
   "cell_type": "code",
   "execution_count": 32,
   "id": "8f38313e",
   "metadata": {},
   "outputs": [],
   "source": [
    "testX_new = np.array(x[train_size:len(x)])\n",
    "testY_new = np.array(y[train_size:len(y)])"
   ]
  },
  {
   "cell_type": "code",
   "execution_count": 34,
   "id": "c5d8e2c4",
   "metadata": {},
   "outputs": [
    {
     "name": "stdout",
     "output_type": "stream",
     "text": [
      "(21, 5, 1)\n",
      "(21, 1)\n"
     ]
    }
   ],
   "source": [
    "print(testX_new.shape)\n",
    "print(testY_new.shape)"
   ]
  },
  {
   "cell_type": "code",
   "execution_count": 30,
   "id": "f189fa66",
   "metadata": {},
   "outputs": [],
   "source": [
    "\n",
    "regressor = Sequential()\n",
    "\n",
    "# Adding the first LSTM layer and some Dropout regularisation\n",
    "regressor.add(LSTM( 50, return_sequences = True, input_shape = (trainX_new.shape[1], 1)))\n",
    "regressor.add(Dropout(0.2))\n",
    "\n",
    "# Adding a second LSTM layer and some Dropout regularisation\n",
    "regressor.add(LSTM( 50, return_sequences = True))\n",
    "regressor.add(Dropout(0.2))\n",
    "\n",
    "# Adding a third LSTM layer and some Dropout regularisation\n",
    "regressor.add(LSTM(units = 50, return_sequences = True))\n",
    "regressor.add(Dropout(0.2))\n",
    "\n",
    "# Adding a fourth LSTM layer and some Dropout regularisation\n",
    "regressor.add(LSTM(units = 50))\n",
    "regressor.add(Dropout(0.2))\n",
    "\n",
    "# Adding the output layer\n",
    "regressor.add(Dense(units = 1))\n",
    "\n",
    "# Compiling the RNN\n",
    "regressor.compile(optimizer = 'adam', loss = 'mean_squared_error')"
   ]
  },
  {
   "cell_type": "code",
   "execution_count": 31,
   "id": "7a4f3f2e",
   "metadata": {},
   "outputs": [
    {
     "name": "stdout",
     "output_type": "stream",
     "text": [
      "Epoch 1/20\n",
      "9/9 [==============================] - 7s 15ms/step - loss: 0.3600\n",
      "Epoch 2/20\n",
      "9/9 [==============================] - 0s 15ms/step - loss: 0.1450\n",
      "Epoch 3/20\n",
      "9/9 [==============================] - 0s 15ms/step - loss: 0.0276\n",
      "Epoch 4/20\n",
      "9/9 [==============================] - 0s 9ms/step - loss: 0.0312\n",
      "Epoch 5/20\n",
      "9/9 [==============================] - 0s 10ms/step - loss: 0.0242\n",
      "Epoch 6/20\n",
      "9/9 [==============================] - 0s 9ms/step - loss: 0.0227\n",
      "Epoch 7/20\n",
      "9/9 [==============================] - 0s 10ms/step - loss: 0.0361\n",
      "Epoch 8/20\n",
      "9/9 [==============================] - 0s 9ms/step - loss: 0.0177\n",
      "Epoch 9/20\n",
      "9/9 [==============================] - 0s 10ms/step - loss: 0.0165\n",
      "Epoch 10/20\n",
      "9/9 [==============================] - 0s 11ms/step - loss: 0.0207\n",
      "Epoch 11/20\n",
      "9/9 [==============================] - 0s 10ms/step - loss: 0.0148\n",
      "Epoch 12/20\n",
      "9/9 [==============================] - 0s 11ms/step - loss: 0.0082\n",
      "Epoch 13/20\n",
      "9/9 [==============================] - 0s 9ms/step - loss: 0.0080\n",
      "Epoch 14/20\n",
      "9/9 [==============================] - 0s 10ms/step - loss: 0.0095\n",
      "Epoch 15/20\n",
      "9/9 [==============================] - 0s 13ms/step - loss: 0.0094\n",
      "Epoch 16/20\n",
      "9/9 [==============================] - 0s 10ms/step - loss: 0.0066\n",
      "Epoch 17/20\n",
      "9/9 [==============================] - 0s 10ms/step - loss: 0.0084\n",
      "Epoch 18/20\n",
      "9/9 [==============================] - 0s 10ms/step - loss: 0.0085\n",
      "Epoch 19/20\n",
      "9/9 [==============================] - 0s 9ms/step - loss: 0.0065\n",
      "Epoch 20/20\n",
      "9/9 [==============================] - 0s 10ms/step - loss: 0.0077\n"
     ]
    },
    {
     "data": {
      "text/plain": [
       "<keras.callbacks.History at 0x7fa4661e6e50>"
      ]
     },
     "execution_count": 31,
     "metadata": {},
     "output_type": "execute_result"
    }
   ],
   "source": [
    "regressor.fit(trainX_new, trainY_new, epochs = 20, batch_size = 5)"
   ]
  },
  {
   "cell_type": "code",
   "execution_count": null,
   "id": "dd77fafd",
   "metadata": {},
   "outputs": [],
   "source": []
  }
 ],
 "metadata": {
  "kernelspec": {
   "display_name": "Python 3 (ipykernel)",
   "language": "python",
   "name": "python3"
  },
  "language_info": {
   "codemirror_mode": {
    "name": "ipython",
    "version": 3
   },
   "file_extension": ".py",
   "mimetype": "text/x-python",
   "name": "python",
   "nbconvert_exporter": "python",
   "pygments_lexer": "ipython3",
   "version": "3.8.10"
  }
 },
 "nbformat": 4,
 "nbformat_minor": 5
}
