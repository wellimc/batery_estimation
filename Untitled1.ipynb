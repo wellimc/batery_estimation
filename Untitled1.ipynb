{
 "cells": [
  {
   "cell_type": "code",
   "execution_count": 1,
   "id": "60289a25",
   "metadata": {},
   "outputs": [],
   "source": [
    "import numpy as np\n",
    "\n",
    "def sigmoid(z):\n",
    "  return 1/(1 + np.exp(-z))"
   ]
  },
  {
   "cell_type": "code",
   "execution_count": 2,
   "id": "165c0d48",
   "metadata": {},
   "outputs": [],
   "source": [
    "def initialize_parameters(n_x, n_h, n_y):\n",
    "  W1 = np.random.randn(n_h, n_x)\n",
    "  b1 = np.zeros((n_h, 1))\n",
    "  W2 = np.random.randn(n_y, n_h)\n",
    "  b2 = np.zeros((n_y, 1))\n",
    "\n",
    "  parameters = {\n",
    "    \"W1\": W1,\n",
    "    \"b1\" : b1,\n",
    "    \"W2\": W2,\n",
    "    \"b2\" : b2\n",
    "  }\n",
    "  return parameters"
   ]
  },
  {
   "cell_type": "code",
   "execution_count": 3,
   "id": "9073b3b5",
   "metadata": {},
   "outputs": [],
   "source": [
    "def forward_prop(X, parameters):\n",
    "  W1 = parameters[\"W1\"]\n",
    "  b1 = parameters[\"b1\"]\n",
    "  W2 = parameters[\"W2\"]\n",
    "  b2 = parameters[\"b2\"]\n",
    "\n",
    "  Z1 = np.dot(W1, X) + b1\n",
    "  A1 = np.tanh(Z1)\n",
    "  Z2 = np.dot(W2, A1) + b2\n",
    "  A2 = sigmoid(Z2)\n",
    "\n",
    "  cache = {\n",
    "    \"A1\": A1,\n",
    "    \"A2\": A2\n",
    "  }\n",
    "  return A2, cache"
   ]
  },
  {
   "cell_type": "code",
   "execution_count": 4,
   "id": "667d8a1b",
   "metadata": {},
   "outputs": [],
   "source": [
    "def calculate_cost(A2, Y):\n",
    "  cost = -np.sum(np.multiply(Y, np.log(A2)) +  np.multiply(1-Y, np.log(1-A2)))/m\n",
    "  cost = np.squeeze(cost)\n",
    "\n",
    "  return cost"
   ]
  },
  {
   "cell_type": "code",
   "execution_count": 5,
   "id": "e86c8027",
   "metadata": {},
   "outputs": [],
   "source": [
    "def backward_prop(X, Y, cache, parameters):\n",
    "  A1 = cache[\"A1\"]\n",
    "  A2 = cache[\"A2\"]\n",
    "\n",
    "  W2 = parameters[\"W2\"]\n",
    "\n",
    "  dZ2 = A2 - Y\n",
    "  dW2 = np.dot(dZ2, A1.T)/m\n",
    "  db2 = np.sum(dZ2, axis=1, keepdims=True)/m\n",
    "  dZ1 = np.multiply(np.dot(W2.T, dZ2), 1-np.power(A1, 2))\n",
    "  dW1 = np.dot(dZ1, X.T)/m\n",
    "  db1 = np.sum(dZ1, axis=1, keepdims=True)/m\n",
    "\n",
    "  grads = {\n",
    "    \"dW1\": dW1,\n",
    "    \"db1\": db1,\n",
    "    \"dW2\": dW2,\n",
    "    \"db2\": db2\n",
    "  }\n",
    "\n",
    "  return grads"
   ]
  },
  {
   "cell_type": "code",
   "execution_count": 7,
   "id": "3a88ee07",
   "metadata": {},
   "outputs": [],
   "source": [
    "def update_parameters(parameters, grads, learning_rate):\n",
    "  W1 = parameters[\"W1\"]\n",
    "  b1 = parameters[\"b1\"]\n",
    "  W2 = parameters[\"W2\"]\n",
    "  b2 = parameters[\"b2\"]\n",
    "\n",
    "  dW1 = grads[\"dW1\"]\n",
    "  db1 = grads[\"db1\"]\n",
    "  dW2 = grads[\"dW2\"]\n",
    "  db2 = grads[\"db2\"]\n",
    "\n",
    "  W1 = W1 - learning_rate*dW1\n",
    "  b1 = b1 - learning_rate*db1\n",
    "  W2 = W2 - learning_rate*dW2\n",
    "  b2 = b2 - learning_rate*db2\n",
    "  \n",
    "  new_parameters = {\n",
    "    \"W1\": W1,\n",
    "    \"W2\": W2,\n",
    "    \"b1\" : b1,\n",
    "    \"b2\" : b2\n",
    "  }\n",
    "\n",
    "  return new_parameters\n"
   ]
  },
  {
   "cell_type": "code",
   "execution_count": 8,
   "id": "fc017ef4",
   "metadata": {},
   "outputs": [],
   "source": [
    "def model(X, Y, n_x, n_h, n_y, num_of_iters, learning_rate):\n",
    "  parameters = initialize_parameters(n_x, n_h, n_y)\n",
    "\n",
    "  for i in range(0, num_of_iters+1):\n",
    "    a2, cache = forward_prop(X, parameters)\n",
    "\n",
    "    cost = calculate_cost(a2, Y)\n",
    "\n",
    "    grads = backward_prop(X, Y, cache, parameters)\n",
    "\n",
    "    parameters = update_parameters(parameters, grads, learning_rate)\n",
    "\n",
    "    if(i%100 == 0):\n",
    "      print('Cost after iteration# {:d}: {:f}'.format(i, cost))\n",
    "\n",
    "  return parameters"
   ]
  },
  {
   "cell_type": "code",
   "execution_count": 9,
   "id": "88ca1405",
   "metadata": {},
   "outputs": [],
   "source": [
    "def predict(X, parameters):\n",
    "  a2, cache = forward_prop(X, parameters)\n",
    "  yhat = a2\n",
    "  yhat = np.squeeze(yhat)\n",
    "  if(yhat >= 0.5):\n",
    "    y_predict = 1\n",
    "  else:\n",
    "    y_predict = 0\n",
    "\n",
    "  return y_predict"
   ]
  },
  {
   "cell_type": "code",
   "execution_count": 10,
   "id": "aff46d96",
   "metadata": {},
   "outputs": [],
   "source": [
    "np.random.seed(2)\n",
    "\n",
    "# The 4 training examples by columns\n",
    "X = np.array([[0, 0, 1, 1], [0, 1, 0, 1]])\n",
    "\n",
    "# The outputs of the XOR for every example in X\n",
    "Y = np.array([[0, 1, 1, 0]])\n",
    "\n",
    "# No. of training examples\n",
    "m = X.shape[1]\n",
    "# Set the hyperparameters\n",
    "n_x = 2     #No. of neurons in first layer\n",
    "n_h = 2     #No. of neurons in hidden layer\n",
    "n_y = 1     #No. of neurons in output layer\n",
    "num_of_iters = 1000\n",
    "learning_rate = 0.3"
   ]
  },
  {
   "cell_type": "code",
   "execution_count": 11,
   "id": "afaaf549",
   "metadata": {},
   "outputs": [
    {
     "name": "stdout",
     "output_type": "stream",
     "text": [
      "Cost after iteration# 0: 0.856267\n",
      "Cost after iteration# 100: 0.347426\n",
      "Cost after iteration# 200: 0.101195\n",
      "Cost after iteration# 300: 0.053631\n",
      "Cost after iteration# 400: 0.036031\n",
      "Cost after iteration# 500: 0.027002\n",
      "Cost after iteration# 600: 0.021543\n",
      "Cost after iteration# 700: 0.017896\n",
      "Cost after iteration# 800: 0.015293\n",
      "Cost after iteration# 900: 0.013344\n",
      "Cost after iteration# 1000: 0.011831\n"
     ]
    }
   ],
   "source": [
    "trained_parameters = model(X, Y, n_x, n_h, n_y, num_of_iters, learning_rate)"
   ]
  },
  {
   "cell_type": "code",
   "execution_count": 12,
   "id": "08c54d70",
   "metadata": {},
   "outputs": [
    {
     "name": "stdout",
     "output_type": "stream",
     "text": [
      "Neural Network prediction for example (1, 1) is 0\n"
     ]
    }
   ],
   "source": [
    "# Test 2X1 vector to calculate the XOR of its elements. \n",
    "# You can try any of those: (0, 0), (0, 1), (1, 0), (1, 1)\n",
    "X_test = np.array([[1], [1]])\n",
    "y_predict = predict(X_test, trained_parameters)\n",
    "# Print the result\n",
    "print('Neural Network prediction for example ({:d}, {:d}) is {:d}'.format(\n",
    "    X_test[0][0], X_test[1][0], y_predict))"
   ]
  },
  {
   "cell_type": "code",
   "execution_count": null,
   "id": "0d659990",
   "metadata": {},
   "outputs": [],
   "source": []
  }
 ],
 "metadata": {
  "kernelspec": {
   "display_name": "Python 3 (ipykernel)",
   "language": "python",
   "name": "python3"
  },
  "language_info": {
   "codemirror_mode": {
    "name": "ipython",
    "version": 3
   },
   "file_extension": ".py",
   "mimetype": "text/x-python",
   "name": "python",
   "nbconvert_exporter": "python",
   "pygments_lexer": "ipython3",
   "version": "3.8.5"
  }
 },
 "nbformat": 4,
 "nbformat_minor": 5
}
