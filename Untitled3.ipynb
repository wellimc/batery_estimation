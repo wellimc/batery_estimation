{
 "cells": [
  {
   "cell_type": "code",
   "execution_count": 59,
   "id": "a01cad0c",
   "metadata": {},
   "outputs": [],
   "source": [
    "import numpy as np\n",
    "import matplotlib.pyplot as plt\n",
    "import pandas as pd\n",
    "import torch\n",
    "import torch.nn as nn\n",
    "from torch.autograd import Variable\n",
    "from sklearn.preprocessing import MinMaxScaler\n",
    "from tensorflow.keras import layers\n",
    "from tensorflow import keras\n",
    "\n",
    "from keras.models import Sequential\n",
    "from keras.layers import Dense\n",
    "from keras.layers import LSTM\n",
    "from keras.layers import Dropout\n",
    "from keras.layers import *\n",
    "\n",
    "import matplotlib.pyplot as plt\n",
    "import seaborn as sns\n",
    "import pprint\n",
    "%matplotlib inline"
   ]
  },
  {
   "cell_type": "code",
   "execution_count": 100,
   "id": "4f1e6e57",
   "metadata": {},
   "outputs": [],
   "source": [
    "\n",
    "\n",
    "dataset = pd.read_csv('BatteryLog_360.csv')\n",
    "data_min = dataset['min']\n",
    "dataset = dataset.set_index(['min'])\n",
    "if not dataset.index.is_monotonic:\n",
    "    dataset = dataset.sort_index()\n",
    "    "
   ]
  },
  {
   "cell_type": "code",
   "execution_count": 101,
   "id": "140755d0",
   "metadata": {},
   "outputs": [
    {
     "name": "stderr",
     "output_type": "stream",
     "text": [
      "No artists with labels found to put in legend.  Note that artists whose label start with an underscore are ignored when legend() is called with no argument.\n"
     ]
    },
    {
     "data": {
      "image/png": "[encoded data removed]",
      "text/plain": [
       "<Figure size 432x288 with 1 Axes>"
      ]
     },
     "metadata": {
      "needs_background": "light"
     },
     "output_type": "display_data"
    }
   ],
   "source": [
    "fig = plt.figure()\n",
    "ax1= fig.add_subplot(111)\n",
    "\n",
    "sns.lineplot(x=data_min,y=dataset[\"level\"], data=df)\n",
    "plt.title(\"Energy Consumption vs Time \")\n",
    "plt.xlabel(\"Time\")\n",
    "plt.grid(True, alpha=1)\n",
    "plt.legend()\n",
    "\n",
    "for label in ax1.xaxis.get_ticklabels():\n",
    "    label.set_rotation(90)"
   ]
  },
  {
   "cell_type": "code",
   "execution_count": 102,
   "id": "3e270b74",
   "metadata": {},
   "outputs": [
    {
     "name": "stdout",
     "output_type": "stream",
     "text": [
      "  Dataset  (68, 1)\n"
     ]
    }
   ],
   "source": [
    "print(\"  Dataset \",dataset.shape )"
   ]
  },
  {
   "cell_type": "code",
   "execution_count": 103,
   "id": "919653c7",
   "metadata": {},
   "outputs": [],
   "source": [
    "TestData = dataset.tail(10)\n",
    "\n",
    "Training_Set = dataset.iloc[:,0:1]\n",
    "\n",
    "Training_Set = Training_Set[:-10]"
   ]
  },
  {
   "cell_type": "code",
   "execution_count": 104,
   "id": "56659374",
   "metadata": {},
   "outputs": [
    {
     "name": "stdout",
     "output_type": "stream",
     "text": [
      "Training Set Shape  (58, 1)\n",
      "Test Set Shape  (10, 1)\n"
     ]
    }
   ],
   "source": [
    "print(\"Training Set Shape \", Training_Set.shape)\n",
    "print(\"Test Set Shape \", TestData.shape)"
   ]
  },
  {
   "cell_type": "code",
   "execution_count": 105,
   "id": "a964ffe9",
   "metadata": {},
   "outputs": [],
   "source": [
    "Training_Set = Training_Set.values\n",
    "sc = MinMaxScaler(feature_range=(0, 1))\n",
    "Train = sc.fit_transform(Training_Set)"
   ]
  },
  {
   "cell_type": "code",
   "execution_count": 106,
   "id": "270529a4",
   "metadata": {},
   "outputs": [
    {
     "name": "stdout",
     "output_type": "stream",
     "text": [
      "(48, 10, 1)\n",
      "(48, 1)\n"
     ]
    }
   ],
   "source": [
    "X_Train = []\n",
    "Y_Train = []\n",
    "\n",
    "# Range should be fromm 60 Values to END \n",
    "for i in range(10, Train.shape[0]):\n",
    "    \n",
    "    # X_Train 0-59 \n",
    "    X_Train.append(Train[i-10:i])\n",
    "    \n",
    "    # Y Would be 60 th Value based on past 60 Values \n",
    "    Y_Train.append(Train[i])\n",
    "\n",
    "# Convert into Numpy Array\n",
    "X_Train = np.array(X_Train)\n",
    "Y_Train = np.array(Y_Train)\n",
    "\n",
    "print(X_Train.shape)\n",
    "print(Y_Train.shape)"
   ]
  },
  {
   "cell_type": "code",
   "execution_count": 107,
   "id": "eaf64dc2",
   "metadata": {},
   "outputs": [
    {
     "data": {
      "text/plain": [
       "(48, 10, 1)"
      ]
     },
     "execution_count": 107,
     "metadata": {},
     "output_type": "execute_result"
    }
   ],
   "source": [
    "# Shape should be Number of [Datapoints , Steps , 1 )\n",
    "# we convert into 3-d Vector or #rd Dimesnsion\n",
    "X_Train = np.reshape(X_Train, newshape=(X_Train.shape[0], X_Train.shape[1], 1))\n",
    "X_Train.shape"
   ]
  },
  {
   "cell_type": "code",
   "execution_count": 108,
   "id": "1e4eb51b",
   "metadata": {},
   "outputs": [],
   "source": [
    "regressor = Sequential()\n",
    "\n",
    "# Adding the first LSTM layer and some Dropout regularisation\n",
    "regressor.add(LSTM(units = 50, return_sequences = True, input_shape = (X_Train.shape[1], 1)))\n",
    "regressor.add(Dropout(0.2))\n",
    "\n",
    "# Adding a second LSTM layer and some Dropout regularisation\n",
    "regressor.add(LSTM(units = 50, return_sequences = True))\n",
    "regressor.add(Dropout(0.2))\n",
    "\n",
    "# Adding a third LSTM layer and some Dropout regularisation\n",
    "regressor.add(LSTM(units = 50, return_sequences = True))\n",
    "regressor.add(Dropout(0.2))\n",
    "\n",
    "# Adding a fourth LSTM layer and some Dropout regularisation\n",
    "regressor.add(LSTM(units = 50))\n",
    "regressor.add(Dropout(0.2))\n",
    "\n",
    "# Adding the output layer\n",
    "regressor.add(Dense(units = 1))\n",
    "\n",
    "# Compiling the RNN\n",
    "regressor.compile(optimizer = 'adam', loss = 'mean_squared_error')"
   ]
  },
  {
   "cell_type": "code",
   "execution_count": 109,
   "id": "7955d7c5",
   "metadata": {},
   "outputs": [
    {
     "name": "stdout",
     "output_type": "stream",
     "text": [
      "Epoch 1/200\n",
      "48/48 [==============================] - 5s 11ms/step - loss: 0.0597\n",
      "Epoch 2/200\n",
      "48/48 [==============================] - 0s 10ms/step - loss: 0.0119\n",
      "Epoch 3/200\n",
      "48/48 [==============================] - 0s 10ms/step - loss: 0.0130\n",
      "Epoch 4/200\n",
      "48/48 [==============================] - 0s 10ms/step - loss: 0.0082\n",
      "Epoch 5/200\n",
      "48/48 [==============================] - 0s 10ms/step - loss: 0.0144\n",
      "Epoch 6/200\n",
      "48/48 [==============================] - 0s 10ms/step - loss: 0.0059\n",
      "Epoch 7/200\n",
      "48/48 [==============================] - 0s 10ms/step - loss: 0.0107\n",
      "Epoch 8/200\n",
      "48/48 [==============================] - 0s 10ms/step - loss: 0.0075\n",
      "Epoch 9/200\n",
      "48/48 [==============================] - 1s 11ms/step - loss: 0.0129\n",
      "Epoch 10/200\n",
      "48/48 [==============================] - 1s 11ms/step - loss: 0.0110\n",
      "Epoch 11/200\n",
      "48/48 [==============================] - 0s 10ms/step - loss: 0.0072\n",
      "Epoch 12/200\n",
      "48/48 [==============================] - 0s 10ms/step - loss: 0.0109\n",
      "Epoch 13/200\n",
      "48/48 [==============================] - 1s 11ms/step - loss: 0.0043\n",
      "Epoch 14/200\n",
      "48/48 [==============================] - 0s 10ms/step - loss: 0.0086\n",
      "Epoch 15/200\n",
      "48/48 [==============================] - 0s 10ms/step - loss: 0.0074\n",
      "Epoch 16/200\n",
      "48/48 [==============================] - 0s 10ms/step - loss: 0.0082\n",
      "Epoch 17/200\n",
      "48/48 [==============================] - 0s 10ms/step - loss: 0.0047\n",
      "Epoch 18/200\n",
      "48/48 [==============================] - 0s 10ms/step - loss: 0.0038\n",
      "Epoch 19/200\n",
      "48/48 [==============================] - 0s 10ms/step - loss: 0.0044\n",
      "Epoch 20/200\n",
      "48/48 [==============================] - 0s 10ms/step - loss: 0.0036\n",
      "Epoch 21/200\n",
      "48/48 [==============================] - 0s 10ms/step - loss: 0.0070\n",
      "Epoch 22/200\n",
      "48/48 [==============================] - 0s 10ms/step - loss: 0.0035\n",
      "Epoch 23/200\n",
      "48/48 [==============================] - 0s 10ms/step - loss: 0.0043\n",
      "Epoch 24/200\n",
      "48/48 [==============================] - 1s 11ms/step - loss: 0.0059\n",
      "Epoch 25/200\n",
      "48/48 [==============================] - 0s 10ms/step - loss: 0.0060\n",
      "Epoch 26/200\n",
      "48/48 [==============================] - 0s 10ms/step - loss: 0.0050\n",
      "Epoch 27/200\n",
      "48/48 [==============================] - 0s 10ms/step - loss: 0.0042\n",
      "Epoch 28/200\n",
      "48/48 [==============================] - 0s 10ms/step - loss: 0.0032\n",
      "Epoch 29/200\n",
      "48/48 [==============================] - 0s 10ms/step - loss: 0.0045\n",
      "Epoch 30/200\n",
      "48/48 [==============================] - 0s 10ms/step - loss: 0.0060\n",
      "Epoch 31/200\n",
      "48/48 [==============================] - 0s 10ms/step - loss: 0.0096\n",
      "Epoch 32/200\n",
      "48/48 [==============================] - 0s 10ms/step - loss: 0.0048\n",
      "Epoch 33/200\n",
      "48/48 [==============================] - 0s 10ms/step - loss: 0.0055\n",
      "Epoch 34/200\n",
      "48/48 [==============================] - 0s 10ms/step - loss: 0.0053\n",
      "Epoch 35/200\n",
      "48/48 [==============================] - 0s 10ms/step - loss: 0.0076\n",
      "Epoch 36/200\n",
      "48/48 [==============================] - 0s 10ms/step - loss: 0.0041\n",
      "Epoch 37/200\n",
      "48/48 [==============================] - 0s 10ms/step - loss: 0.0064\n",
      "Epoch 38/200\n",
      "48/48 [==============================] - 0s 10ms/step - loss: 0.0058\n",
      "Epoch 39/200\n",
      "48/48 [==============================] - 0s 10ms/step - loss: 0.0071\n",
      "Epoch 40/200\n",
      "48/48 [==============================] - 0s 10ms/step - loss: 0.0037\n",
      "Epoch 41/200\n",
      "48/48 [==============================] - 0s 10ms/step - loss: 0.0073\n",
      "Epoch 42/200\n",
      "48/48 [==============================] - 0s 10ms/step - loss: 0.0086\n",
      "Epoch 43/200\n",
      "48/48 [==============================] - 0s 10ms/step - loss: 0.0054\n",
      "Epoch 44/200\n",
      "48/48 [==============================] - 0s 10ms/step - loss: 0.0061\n",
      "Epoch 45/200\n",
      "48/48 [==============================] - 1s 11ms/step - loss: 0.0044\n",
      "Epoch 46/200\n",
      "48/48 [==============================] - 0s 10ms/step - loss: 0.0057\n",
      "Epoch 47/200\n",
      "48/48 [==============================] - 0s 10ms/step - loss: 0.0043\n",
      "Epoch 48/200\n",
      "48/48 [==============================] - 0s 10ms/step - loss: 0.0059\n",
      "Epoch 49/200\n",
      "48/48 [==============================] - 0s 10ms/step - loss: 0.0039\n",
      "Epoch 50/200\n",
      "48/48 [==============================] - 0s 9ms/step - loss: 0.0056\n",
      "Epoch 51/200\n",
      "48/48 [==============================] - 0s 10ms/step - loss: 0.0043\n",
      "Epoch 52/200\n",
      "48/48 [==============================] - 0s 10ms/step - loss: 0.0041\n",
      "Epoch 53/200\n",
      "48/48 [==============================] - 0s 10ms/step - loss: 0.0030\n",
      "Epoch 54/200\n",
      "48/48 [==============================] - 1s 10ms/step - loss: 0.0036\n",
      "Epoch 55/200\n",
      "48/48 [==============================] - 0s 10ms/step - loss: 0.0019\n",
      "Epoch 56/200\n",
      "48/48 [==============================] - 1s 11ms/step - loss: 0.0032\n",
      "Epoch 57/200\n",
      "48/48 [==============================] - 0s 10ms/step - loss: 0.0036\n",
      "Epoch 58/200\n",
      "48/48 [==============================] - 0s 10ms/step - loss: 0.0062\n",
      "Epoch 59/200\n",
      "48/48 [==============================] - 0s 10ms/step - loss: 0.0036\n",
      "Epoch 60/200\n",
      "48/48 [==============================] - 0s 10ms/step - loss: 0.0039\n",
      "Epoch 61/200\n",
      "48/48 [==============================] - 0s 10ms/step - loss: 0.0038\n",
      "Epoch 62/200\n",
      "48/48 [==============================] - 0s 10ms/step - loss: 0.0047\n",
      "Epoch 63/200\n",
      "48/48 [==============================] - 0s 10ms/step - loss: 0.0047\n",
      "Epoch 64/200\n",
      "48/48 [==============================] - 1s 11ms/step - loss: 0.0024\n",
      "Epoch 65/200\n",
      "48/48 [==============================] - 0s 10ms/step - loss: 0.0034\n",
      "Epoch 66/200\n",
      "48/48 [==============================] - 0s 10ms/step - loss: 0.0062\n",
      "Epoch 67/200\n",
      "48/48 [==============================] - 0s 10ms/step - loss: 0.0041\n",
      "Epoch 68/200\n",
      "48/48 [==============================] - 0s 10ms/step - loss: 0.0033\n",
      "Epoch 69/200\n",
      "48/48 [==============================] - 0s 10ms/step - loss: 0.0068\n",
      "Epoch 70/200\n",
      "48/48 [==============================] - 0s 10ms/step - loss: 0.0033\n",
      "Epoch 71/200\n",
      "48/48 [==============================] - 0s 10ms/step - loss: 0.0055\n",
      "Epoch 72/200\n",
      "48/48 [==============================] - 0s 9ms/step - loss: 0.0048\n",
      "Epoch 73/200\n",
      "48/48 [==============================] - 0s 10ms/step - loss: 0.0048\n",
      "Epoch 74/200\n",
      "48/48 [==============================] - 0s 10ms/step - loss: 0.0047\n",
      "Epoch 75/200\n",
      "48/48 [==============================] - 1s 11ms/step - loss: 0.0035\n",
      "Epoch 76/200\n",
      "48/48 [==============================] - 1s 11ms/step - loss: 0.0028\n",
      "Epoch 77/200\n",
      "48/48 [==============================] - 0s 10ms/step - loss: 0.0056\n",
      "Epoch 78/200\n",
      "48/48 [==============================] - 0s 10ms/step - loss: 0.0037\n",
      "Epoch 79/200\n",
      "48/48 [==============================] - 0s 10ms/step - loss: 0.0027\n",
      "Epoch 80/200\n",
      "48/48 [==============================] - 0s 10ms/step - loss: 0.0037\n",
      "Epoch 81/200\n",
      "48/48 [==============================] - 0s 10ms/step - loss: 0.0063\n",
      "Epoch 82/200\n",
      "48/48 [==============================] - 0s 10ms/step - loss: 0.0042\n",
      "Epoch 83/200\n",
      "48/48 [==============================] - 0s 10ms/step - loss: 0.0052\n",
      "Epoch 84/200\n",
      "48/48 [==============================] - 0s 10ms/step - loss: 0.0040\n",
      "Epoch 85/200\n",
      "48/48 [==============================] - 0s 10ms/step - loss: 0.0044\n",
      "Epoch 86/200\n",
      "48/48 [==============================] - 0s 10ms/step - loss: 0.0045\n",
      "Epoch 87/200\n",
      "48/48 [==============================] - 0s 9ms/step - loss: 0.0042\n",
      "Epoch 88/200\n",
      "48/48 [==============================] - 0s 10ms/step - loss: 0.0036\n",
      "Epoch 89/200\n",
      "48/48 [==============================] - 0s 9ms/step - loss: 0.0041\n",
      "Epoch 90/200\n",
      "48/48 [==============================] - 0s 9ms/step - loss: 0.0047\n",
      "Epoch 91/200\n",
      "48/48 [==============================] - 0s 10ms/step - loss: 0.0037\n",
      "Epoch 92/200\n",
      "48/48 [==============================] - 0s 10ms/step - loss: 0.0033\n",
      "Epoch 93/200\n",
      "48/48 [==============================] - 0s 10ms/step - loss: 0.0048\n",
      "Epoch 94/200\n",
      "48/48 [==============================] - 0s 9ms/step - loss: 0.0055\n",
      "Epoch 95/200\n",
      "48/48 [==============================] - 0s 10ms/step - loss: 0.0021\n",
      "Epoch 96/200\n",
      "48/48 [==============================] - 0s 10ms/step - loss: 0.0027\n",
      "Epoch 97/200\n",
      "48/48 [==============================] - 0s 9ms/step - loss: 0.0042\n",
      "Epoch 98/200\n",
      "48/48 [==============================] - 0s 10ms/step - loss: 0.0047\n",
      "Epoch 99/200\n",
      "48/48 [==============================] - 1s 10ms/step - loss: 0.0031\n",
      "Epoch 100/200\n",
      "48/48 [==============================] - 0s 10ms/step - loss: 0.0056\n",
      "Epoch 101/200\n"
     ]
    },
    {
     "name": "stdout",
     "output_type": "stream",
     "text": [
      "48/48 [==============================] - 0s 10ms/step - loss: 0.0062\n",
      "Epoch 102/200\n",
      "48/48 [==============================] - 0s 10ms/step - loss: 0.0034\n",
      "Epoch 103/200\n",
      "48/48 [==============================] - 0s 10ms/step - loss: 0.0050\n",
      "Epoch 104/200\n",
      "48/48 [==============================] - 0s 10ms/step - loss: 0.0034\n",
      "Epoch 105/200\n",
      "48/48 [==============================] - 0s 10ms/step - loss: 0.0040\n",
      "Epoch 106/200\n",
      "48/48 [==============================] - 0s 10ms/step - loss: 0.0030\n",
      "Epoch 107/200\n",
      "48/48 [==============================] - 0s 10ms/step - loss: 0.0025\n",
      "Epoch 108/200\n",
      "48/48 [==============================] - 0s 10ms/step - loss: 0.0035\n",
      "Epoch 109/200\n",
      "48/48 [==============================] - 0s 10ms/step - loss: 0.0041\n",
      "Epoch 110/200\n",
      "48/48 [==============================] - 0s 10ms/step - loss: 0.0027\n",
      "Epoch 111/200\n",
      "48/48 [==============================] - 0s 10ms/step - loss: 0.0052\n",
      "Epoch 112/200\n",
      "48/48 [==============================] - 0s 9ms/step - loss: 0.0047\n",
      "Epoch 113/200\n",
      "48/48 [==============================] - 0s 10ms/step - loss: 0.0028\n",
      "Epoch 114/200\n",
      "48/48 [==============================] - 0s 10ms/step - loss: 0.0026\n",
      "Epoch 115/200\n",
      "48/48 [==============================] - 0s 10ms/step - loss: 0.0047\n",
      "Epoch 116/200\n",
      "48/48 [==============================] - 0s 10ms/step - loss: 0.0049\n",
      "Epoch 117/200\n",
      "48/48 [==============================] - 0s 10ms/step - loss: 0.0035\n",
      "Epoch 118/200\n",
      "48/48 [==============================] - 0s 10ms/step - loss: 0.0036\n",
      "Epoch 119/200\n",
      "48/48 [==============================] - 0s 9ms/step - loss: 0.0037\n",
      "Epoch 120/200\n",
      "48/48 [==============================] - 0s 9ms/step - loss: 0.0041\n",
      "Epoch 121/200\n",
      "48/48 [==============================] - 0s 9ms/step - loss: 0.0040\n",
      "Epoch 122/200\n",
      "48/48 [==============================] - 0s 9ms/step - loss: 0.0029\n",
      "Epoch 123/200\n",
      "48/48 [==============================] - 0s 10ms/step - loss: 0.0031\n",
      "Epoch 124/200\n",
      "48/48 [==============================] - 0s 10ms/step - loss: 0.0036\n",
      "Epoch 125/200\n",
      "48/48 [==============================] - 0s 10ms/step - loss: 0.0031\n",
      "Epoch 126/200\n",
      "48/48 [==============================] - 0s 10ms/step - loss: 0.0030\n",
      "Epoch 127/200\n",
      "48/48 [==============================] - 0s 10ms/step - loss: 0.0026\n",
      "Epoch 128/200\n",
      "48/48 [==============================] - 0s 10ms/step - loss: 0.0019\n",
      "Epoch 129/200\n",
      "48/48 [==============================] - 0s 10ms/step - loss: 0.0034\n",
      "Epoch 130/200\n",
      "48/48 [==============================] - 0s 10ms/step - loss: 0.0040\n",
      "Epoch 131/200\n",
      "48/48 [==============================] - 0s 10ms/step - loss: 0.0062\n",
      "Epoch 132/200\n",
      "48/48 [==============================] - 0s 10ms/step - loss: 0.0035\n",
      "Epoch 133/200\n",
      "48/48 [==============================] - 0s 10ms/step - loss: 0.0035\n",
      "Epoch 134/200\n",
      "48/48 [==============================] - 0s 10ms/step - loss: 0.0046\n",
      "Epoch 135/200\n",
      "48/48 [==============================] - 0s 10ms/step - loss: 0.0030\n",
      "Epoch 136/200\n",
      "48/48 [==============================] - 0s 10ms/step - loss: 0.0034\n",
      "Epoch 137/200\n",
      "48/48 [==============================] - 0s 10ms/step - loss: 0.0029\n",
      "Epoch 138/200\n",
      "48/48 [==============================] - 0s 10ms/step - loss: 0.0041\n",
      "Epoch 139/200\n",
      "48/48 [==============================] - 0s 10ms/step - loss: 0.0025\n",
      "Epoch 140/200\n",
      "48/48 [==============================] - 0s 10ms/step - loss: 0.0032\n",
      "Epoch 141/200\n",
      "48/48 [==============================] - 0s 10ms/step - loss: 0.0028\n",
      "Epoch 142/200\n",
      "48/48 [==============================] - 0s 10ms/step - loss: 0.0036\n",
      "Epoch 143/200\n",
      "48/48 [==============================] - 1s 10ms/step - loss: 0.0037\n",
      "Epoch 144/200\n",
      "48/48 [==============================] - 0s 10ms/step - loss: 0.0070\n",
      "Epoch 145/200\n",
      "48/48 [==============================] - 0s 10ms/step - loss: 0.0033\n",
      "Epoch 146/200\n",
      "48/48 [==============================] - 0s 10ms/step - loss: 0.0032\n",
      "Epoch 147/200\n",
      "48/48 [==============================] - 0s 10ms/step - loss: 0.0052\n",
      "Epoch 148/200\n",
      "48/48 [==============================] - 0s 9ms/step - loss: 0.0052\n",
      "Epoch 149/200\n",
      "48/48 [==============================] - 1s 11ms/step - loss: 0.0049\n",
      "Epoch 150/200\n",
      "48/48 [==============================] - 0s 10ms/step - loss: 0.0059\n",
      "Epoch 151/200\n",
      "48/48 [==============================] - 0s 10ms/step - loss: 0.0038\n",
      "Epoch 152/200\n",
      "48/48 [==============================] - 0s 10ms/step - loss: 0.0037\n",
      "Epoch 153/200\n",
      "48/48 [==============================] - 0s 10ms/step - loss: 0.0036\n",
      "Epoch 154/200\n",
      "48/48 [==============================] - 0s 10ms/step - loss: 0.0024\n",
      "Epoch 155/200\n",
      "48/48 [==============================] - 0s 9ms/step - loss: 0.0037\n",
      "Epoch 156/200\n",
      "48/48 [==============================] - 0s 10ms/step - loss: 0.0027\n",
      "Epoch 157/200\n",
      "48/48 [==============================] - 0s 10ms/step - loss: 0.0032\n",
      "Epoch 158/200\n",
      "48/48 [==============================] - 0s 10ms/step - loss: 0.0030\n",
      "Epoch 159/200\n",
      "48/48 [==============================] - 0s 10ms/step - loss: 0.0033\n",
      "Epoch 160/200\n",
      "48/48 [==============================] - 0s 10ms/step - loss: 0.0039\n",
      "Epoch 161/200\n",
      "48/48 [==============================] - 0s 10ms/step - loss: 0.0029\n",
      "Epoch 162/200\n",
      "48/48 [==============================] - 1s 11ms/step - loss: 0.0036\n",
      "Epoch 163/200\n",
      "48/48 [==============================] - 0s 10ms/step - loss: 0.0062\n",
      "Epoch 164/200\n",
      "48/48 [==============================] - 0s 10ms/step - loss: 0.0024\n",
      "Epoch 165/200\n",
      "48/48 [==============================] - 1s 11ms/step - loss: 0.0028\n",
      "Epoch 166/200\n",
      "48/48 [==============================] - 1s 12ms/step - loss: 0.0036\n",
      "Epoch 167/200\n",
      "48/48 [==============================] - 1s 11ms/step - loss: 0.0040\n",
      "Epoch 168/200\n",
      "48/48 [==============================] - 1s 11ms/step - loss: 0.0032\n",
      "Epoch 169/200\n",
      "48/48 [==============================] - 1s 11ms/step - loss: 0.0037\n",
      "Epoch 170/200\n",
      "48/48 [==============================] - 1s 11ms/step - loss: 0.0032\n",
      "Epoch 171/200\n",
      "48/48 [==============================] - 1s 12ms/step - loss: 0.0024\n",
      "Epoch 172/200\n",
      "48/48 [==============================] - 1s 11ms/step - loss: 0.0030\n",
      "Epoch 173/200\n",
      "48/48 [==============================] - 1s 11ms/step - loss: 0.0039\n",
      "Epoch 174/200\n",
      "48/48 [==============================] - 1s 11ms/step - loss: 0.0037\n",
      "Epoch 175/200\n",
      "48/48 [==============================] - 1s 11ms/step - loss: 0.0054\n",
      "Epoch 176/200\n",
      "48/48 [==============================] - 1s 12ms/step - loss: 0.0030\n",
      "Epoch 177/200\n",
      "48/48 [==============================] - 1s 12ms/step - loss: 0.0028\n",
      "Epoch 178/200\n",
      "48/48 [==============================] - 1s 11ms/step - loss: 0.0029\n",
      "Epoch 179/200\n",
      "48/48 [==============================] - 1s 10ms/step - loss: 0.0047\n",
      "Epoch 180/200\n",
      "48/48 [==============================] - 1s 10ms/step - loss: 0.0028\n",
      "Epoch 181/200\n",
      "48/48 [==============================] - 1s 10ms/step - loss: 0.0029\n",
      "Epoch 182/200\n",
      "48/48 [==============================] - 1s 10ms/step - loss: 0.0032\n",
      "Epoch 183/200\n",
      "48/48 [==============================] - 0s 10ms/step - loss: 0.0016\n",
      "Epoch 184/200\n",
      "48/48 [==============================] - 0s 10ms/step - loss: 0.0041\n",
      "Epoch 185/200\n",
      "48/48 [==============================] - 0s 10ms/step - loss: 0.0028\n",
      "Epoch 186/200\n",
      "48/48 [==============================] - 0s 10ms/step - loss: 0.0038\n",
      "Epoch 187/200\n",
      "48/48 [==============================] - 0s 10ms/step - loss: 0.0026\n",
      "Epoch 188/200\n",
      "48/48 [==============================] - 0s 10ms/step - loss: 0.0025\n",
      "Epoch 189/200\n",
      "48/48 [==============================] - 0s 10ms/step - loss: 0.0027\n",
      "Epoch 190/200\n",
      "48/48 [==============================] - 0s 10ms/step - loss: 0.0020\n",
      "Epoch 191/200\n",
      "48/48 [==============================] - 0s 10ms/step - loss: 0.0016\n",
      "Epoch 192/200\n",
      "48/48 [==============================] - 0s 10ms/step - loss: 0.0030\n",
      "Epoch 193/200\n",
      "48/48 [==============================] - 0s 10ms/step - loss: 0.0022\n",
      "Epoch 194/200\n",
      "48/48 [==============================] - 0s 10ms/step - loss: 0.0033\n",
      "Epoch 195/200\n",
      "48/48 [==============================] - 1s 10ms/step - loss: 0.0028\n",
      "Epoch 196/200\n",
      "48/48 [==============================] - 0s 10ms/step - loss: 0.0033\n",
      "Epoch 197/200\n",
      "48/48 [==============================] - 0s 10ms/step - loss: 0.0030\n",
      "Epoch 198/200\n",
      "48/48 [==============================] - 1s 11ms/step - loss: 0.0020\n",
      "Epoch 199/200\n"
     ]
    },
    {
     "name": "stdout",
     "output_type": "stream",
     "text": [
      "48/48 [==============================] - 0s 10ms/step - loss: 0.0026\n",
      "Epoch 200/200\n",
      "48/48 [==============================] - 0s 10ms/step - loss: 0.0025\n"
     ]
    },
    {
     "data": {
      "text/plain": [
       "<keras.callbacks.History at 0x7fb278ce0cd0>"
      ]
     },
     "execution_count": 109,
     "metadata": {},
     "output_type": "execute_result"
    }
   ],
   "source": [
    "regressor.fit(X_Train, Y_Train, epochs = 200, batch_size = 1)"
   ]
  },
  {
   "cell_type": "code",
   "execution_count": 110,
   "id": "a9dcef2e",
   "metadata": {},
   "outputs": [],
   "source": [
    "regressor.save('battery_trainned_model.h5')"
   ]
  },
  {
   "cell_type": "code",
   "execution_count": 111,
   "id": "17c89776",
   "metadata": {},
   "outputs": [
    {
     "data": {
      "text/html": [
       "<div>\n",
       "<style scoped>\n",
       "    .dataframe tbody tr th:only-of-type {\n",
       "        vertical-align: middle;\n",
       "    }\n",
       "\n",
       "    .dataframe tbody tr th {\n",
       "        vertical-align: top;\n",
       "    }\n",
       "\n",
       "    .dataframe thead th {\n",
       "        text-align: right;\n",
       "    }\n",
       "</style>\n",
       "<table border=\"1\" class=\"dataframe\">\n",
       "  <thead>\n",
       "    <tr style=\"text-align: right;\">\n",
       "      <th></th>\n",
       "      <th>level</th>\n",
       "    </tr>\n",
       "    <tr>\n",
       "      <th>min</th>\n",
       "      <th></th>\n",
       "    </tr>\n",
       "  </thead>\n",
       "  <tbody>\n",
       "    <tr>\n",
       "      <th>58</th>\n",
       "      <td>60</td>\n",
       "    </tr>\n",
       "    <tr>\n",
       "      <th>59</th>\n",
       "      <td>60</td>\n",
       "    </tr>\n",
       "  </tbody>\n",
       "</table>\n",
       "</div>"
      ],
      "text/plain": [
       "     level\n",
       "min       \n",
       "58      60\n",
       "59      60"
      ]
     },
     "execution_count": 111,
     "metadata": {},
     "output_type": "execute_result"
    }
   ],
   "source": [
    "TestData.head(2)"
   ]
  },
  {
   "cell_type": "code",
   "execution_count": 112,
   "id": "ea07aa10",
   "metadata": {},
   "outputs": [
    {
     "data": {
      "text/plain": [
       "(68, 1)"
      ]
     },
     "execution_count": 112,
     "metadata": {},
     "output_type": "execute_result"
    }
   ],
   "source": [
    "dataset.shape"
   ]
  },
  {
   "cell_type": "code",
   "execution_count": 113,
   "id": "c37846d7",
   "metadata": {},
   "outputs": [],
   "source": [
    "Df_Total = pd.concat((dataset[[\"level\"]], TestData[[\"level\"]]), axis=0)"
   ]
  },
  {
   "cell_type": "code",
   "execution_count": 114,
   "id": "2ebe5dcd",
   "metadata": {},
   "outputs": [
    {
     "data": {
      "text/plain": [
       "(78, 1)"
      ]
     },
     "execution_count": 114,
     "metadata": {},
     "output_type": "execute_result"
    }
   ],
   "source": [
    "Df_Total.shape"
   ]
  },
  {
   "cell_type": "code",
   "execution_count": 115,
   "id": "fb76b28a",
   "metadata": {},
   "outputs": [
    {
     "data": {
      "text/plain": [
       "(20, 1)"
      ]
     },
     "execution_count": 115,
     "metadata": {},
     "output_type": "execute_result"
    }
   ],
   "source": [
    "inputs = Df_Total[len(Df_Total) - len(TestData) - 10:].values\n",
    "inputs.shape"
   ]
  },
  {
   "cell_type": "code",
   "execution_count": 116,
   "id": "9d79b32a",
   "metadata": {},
   "outputs": [],
   "source": [
    "inputs = Df_Total[len(Df_Total) - len(TestData) - 10:].values\n",
    "\n",
    "# We need to Reshape\n",
    "inputs = inputs.reshape(-1,1)\n",
    "\n",
    "# Normalize the Dataset\n",
    "inputs = sc.transform(inputs)\n",
    "\n",
    "X_test = []\n",
    "for i in range(10, 20):\n",
    "    X_test.append(inputs[i-10:i])\n",
    "    \n",
    "# Convert into Numpy Array\n",
    "X_test = np.array(X_test)\n",
    "\n",
    "# Reshape before Passing to Network\n",
    "X_test = np.reshape(X_test, (X_test.shape[0], X_test.shape[1], 1))\n",
    "\n",
    "# Pass to Model \n",
    "predicted_stock_price = regressor.predict(X_test)\n",
    "\n",
    "# Do inverse Transformation to get Values \n",
    "predicted_stock_price = sc.inverse_transform(predicted_stock_price)"
   ]
  },
  {
   "cell_type": "code",
   "execution_count": 117,
   "id": "ebb943e8",
   "metadata": {},
   "outputs": [],
   "source": [
    "True_MegaWatt = TestData[\"level\"].to_list()\n",
    "Predicted_MegaWatt  = predicted_stock_price\n",
    "dates = TestData.index.to_list()"
   ]
  },
  {
   "cell_type": "code",
   "execution_count": 118,
   "id": "51397582",
   "metadata": {},
   "outputs": [],
   "source": [
    "Machine_Df = pd.DataFrame(data={\n",
    "    \"Date\":dates,\n",
    "    \"TrueMegaWatt\": True_MegaWatt,\n",
    "    \"PredictedMeagWatt\":[x[0] for x in Predicted_MegaWatt ]\n",
    "})"
   ]
  },
  {
   "cell_type": "code",
   "execution_count": 119,
   "id": "5b42d4a2",
   "metadata": {},
   "outputs": [
    {
     "data": {
      "text/html": [
       "<div>\n",
       "<style scoped>\n",
       "    .dataframe tbody tr th:only-of-type {\n",
       "        vertical-align: middle;\n",
       "    }\n",
       "\n",
       "    .dataframe tbody tr th {\n",
       "        vertical-align: top;\n",
       "    }\n",
       "\n",
       "    .dataframe thead th {\n",
       "        text-align: right;\n",
       "    }\n",
       "</style>\n",
       "<table border=\"1\" class=\"dataframe\">\n",
       "  <thead>\n",
       "    <tr style=\"text-align: right;\">\n",
       "      <th></th>\n",
       "      <th>Date</th>\n",
       "      <th>TrueMegaWatt</th>\n",
       "      <th>PredictedMeagWatt</th>\n",
       "    </tr>\n",
       "  </thead>\n",
       "  <tbody>\n",
       "    <tr>\n",
       "      <th>0</th>\n",
       "      <td>58</td>\n",
       "      <td>60</td>\n",
       "      <td>58.903404</td>\n",
       "    </tr>\n",
       "    <tr>\n",
       "      <th>1</th>\n",
       "      <td>59</td>\n",
       "      <td>60</td>\n",
       "      <td>58.903404</td>\n",
       "    </tr>\n",
       "    <tr>\n",
       "      <th>2</th>\n",
       "      <td>60</td>\n",
       "      <td>60</td>\n",
       "      <td>58.903404</td>\n",
       "    </tr>\n",
       "    <tr>\n",
       "      <th>3</th>\n",
       "      <td>61</td>\n",
       "      <td>60</td>\n",
       "      <td>58.903404</td>\n",
       "    </tr>\n",
       "    <tr>\n",
       "      <th>4</th>\n",
       "      <td>62</td>\n",
       "      <td>60</td>\n",
       "      <td>58.903404</td>\n",
       "    </tr>\n",
       "    <tr>\n",
       "      <th>5</th>\n",
       "      <td>63</td>\n",
       "      <td>60</td>\n",
       "      <td>58.903404</td>\n",
       "    </tr>\n",
       "    <tr>\n",
       "      <th>6</th>\n",
       "      <td>64</td>\n",
       "      <td>60</td>\n",
       "      <td>58.903404</td>\n",
       "    </tr>\n",
       "    <tr>\n",
       "      <th>7</th>\n",
       "      <td>65</td>\n",
       "      <td>60</td>\n",
       "      <td>58.903404</td>\n",
       "    </tr>\n",
       "    <tr>\n",
       "      <th>8</th>\n",
       "      <td>66</td>\n",
       "      <td>60</td>\n",
       "      <td>58.903404</td>\n",
       "    </tr>\n",
       "    <tr>\n",
       "      <th>9</th>\n",
       "      <td>67</td>\n",
       "      <td>60</td>\n",
       "      <td>58.903404</td>\n",
       "    </tr>\n",
       "  </tbody>\n",
       "</table>\n",
       "</div>"
      ],
      "text/plain": [
       "   Date  TrueMegaWatt  PredictedMeagWatt\n",
       "0    58            60          58.903404\n",
       "1    59            60          58.903404\n",
       "2    60            60          58.903404\n",
       "3    61            60          58.903404\n",
       "4    62            60          58.903404\n",
       "5    63            60          58.903404\n",
       "6    64            60          58.903404\n",
       "7    65            60          58.903404\n",
       "8    66            60          58.903404\n",
       "9    67            60          58.903404"
      ]
     },
     "execution_count": 119,
     "metadata": {},
     "output_type": "execute_result"
    }
   ],
   "source": [
    "Machine_Df"
   ]
  },
  {
   "cell_type": "code",
   "execution_count": 120,
   "id": "cbcbc7ce",
   "metadata": {},
   "outputs": [],
   "source": [
    "True_MegaWatt = TestData[\"level\"].to_list()\n",
    "Predicted_MegaWatt  = [x[0] for x in Predicted_MegaWatt ]\n",
    "dates = TestData.index.to_list()"
   ]
  },
  {
   "cell_type": "code",
   "execution_count": 121,
   "id": "9a3e2350",
   "metadata": {},
   "outputs": [],
   "source": [
    "# It can be used to reconstruct the model identically.\n",
    "reconstructed_model = keras.models.load_model(\"battery_trainned_model.h5\")"
   ]
  },
  {
   "cell_type": "code",
   "execution_count": 122,
   "id": "f0aa524e",
   "metadata": {},
   "outputs": [],
   "source": [
    "test_input = [80]"
   ]
  },
  {
   "cell_type": "code",
   "execution_count": 123,
   "id": "79a3ef64",
   "metadata": {},
   "outputs": [
    {
     "name": "stdout",
     "output_type": "stream",
     "text": [
      "WARNING:tensorflow:Model was constructed with shape (None, 10, 1) for input KerasTensor(type_spec=TensorSpec(shape=(None, 10, 1), dtype=tf.float32, name='lstm_4_input'), name='lstm_4_input', description=\"created by layer 'lstm_4_input'\"), but it was called on an input with incompatible shape (None, 1, 1).\n"
     ]
    }
   ],
   "source": [
    "\n",
    "predicted_one = regressor.predict([X_test[9]])\n",
    "predicted_stock_price = sc.inverse_transform(predicted_stock_price)\n",
    "predicted_one = sc.inverse_transform(predicted_one)\n",
    "\n"
   ]
  },
  {
   "cell_type": "code",
   "execution_count": 125,
   "id": "1a09a0f2",
   "metadata": {},
   "outputs": [
    {
     "ename": "KeyError",
     "evalue": "9",
     "output_type": "error",
     "traceback": [
      "\u001b[0;31m---------------------------------------------------------------------------\u001b[0m",
      "\u001b[0;31mKeyError\u001b[0m                                  Traceback (most recent call last)",
      "File \u001b[0;32m~/opt/miniconda3/lib/python3.8/site-packages/pandas/core/indexes/base.py:3621\u001b[0m, in \u001b[0;36mIndex.get_loc\u001b[0;34m(self, key, method, tolerance)\u001b[0m\n\u001b[1;32m   3620\u001b[0m \u001b[38;5;28;01mtry\u001b[39;00m:\n\u001b[0;32m-> 3621\u001b[0m     \u001b[38;5;28;01mreturn\u001b[39;00m \u001b[38;5;28;43mself\u001b[39;49m\u001b[38;5;241;43m.\u001b[39;49m\u001b[43m_engine\u001b[49m\u001b[38;5;241;43m.\u001b[39;49m\u001b[43mget_loc\u001b[49m\u001b[43m(\u001b[49m\u001b[43mcasted_key\u001b[49m\u001b[43m)\u001b[49m\n\u001b[1;32m   3622\u001b[0m \u001b[38;5;28;01mexcept\u001b[39;00m \u001b[38;5;167;01mKeyError\u001b[39;00m \u001b[38;5;28;01mas\u001b[39;00m err:\n",
      "File \u001b[0;32m~/opt/miniconda3/lib/python3.8/site-packages/pandas/_libs/index.pyx:136\u001b[0m, in \u001b[0;36mpandas._libs.index.IndexEngine.get_loc\u001b[0;34m()\u001b[0m\n",
      "File \u001b[0;32m~/opt/miniconda3/lib/python3.8/site-packages/pandas/_libs/index.pyx:163\u001b[0m, in \u001b[0;36mpandas._libs.index.IndexEngine.get_loc\u001b[0;34m()\u001b[0m\n",
      "File \u001b[0;32mpandas/_libs/hashtable_class_helper.pxi:5198\u001b[0m, in \u001b[0;36mpandas._libs.hashtable.PyObjectHashTable.get_item\u001b[0;34m()\u001b[0m\n",
      "File \u001b[0;32mpandas/_libs/hashtable_class_helper.pxi:5206\u001b[0m, in \u001b[0;36mpandas._libs.hashtable.PyObjectHashTable.get_item\u001b[0;34m()\u001b[0m\n",
      "\u001b[0;31mKeyError\u001b[0m: 9",
      "\nThe above exception was the direct cause of the following exception:\n",
      "\u001b[0;31mKeyError\u001b[0m                                  Traceback (most recent call last)",
      "Input \u001b[0;32mIn [125]\u001b[0m, in \u001b[0;36m<cell line: 1>\u001b[0;34m()\u001b[0m\n\u001b[0;32m----> 1\u001b[0m \u001b[38;5;28mprint\u001b[39m(\u001b[43mTestData\u001b[49m\u001b[43m[\u001b[49m\u001b[38;5;241;43m9\u001b[39;49m\u001b[43m]\u001b[49m)\n",
      "File \u001b[0;32m~/opt/miniconda3/lib/python3.8/site-packages/pandas/core/frame.py:3505\u001b[0m, in \u001b[0;36mDataFrame.__getitem__\u001b[0;34m(self, key)\u001b[0m\n\u001b[1;32m   3503\u001b[0m \u001b[38;5;28;01mif\u001b[39;00m \u001b[38;5;28mself\u001b[39m\u001b[38;5;241m.\u001b[39mcolumns\u001b[38;5;241m.\u001b[39mnlevels \u001b[38;5;241m>\u001b[39m \u001b[38;5;241m1\u001b[39m:\n\u001b[1;32m   3504\u001b[0m     \u001b[38;5;28;01mreturn\u001b[39;00m \u001b[38;5;28mself\u001b[39m\u001b[38;5;241m.\u001b[39m_getitem_multilevel(key)\n\u001b[0;32m-> 3505\u001b[0m indexer \u001b[38;5;241m=\u001b[39m \u001b[38;5;28;43mself\u001b[39;49m\u001b[38;5;241;43m.\u001b[39;49m\u001b[43mcolumns\u001b[49m\u001b[38;5;241;43m.\u001b[39;49m\u001b[43mget_loc\u001b[49m\u001b[43m(\u001b[49m\u001b[43mkey\u001b[49m\u001b[43m)\u001b[49m\n\u001b[1;32m   3506\u001b[0m \u001b[38;5;28;01mif\u001b[39;00m is_integer(indexer):\n\u001b[1;32m   3507\u001b[0m     indexer \u001b[38;5;241m=\u001b[39m [indexer]\n",
      "File \u001b[0;32m~/opt/miniconda3/lib/python3.8/site-packages/pandas/core/indexes/base.py:3623\u001b[0m, in \u001b[0;36mIndex.get_loc\u001b[0;34m(self, key, method, tolerance)\u001b[0m\n\u001b[1;32m   3621\u001b[0m     \u001b[38;5;28;01mreturn\u001b[39;00m \u001b[38;5;28mself\u001b[39m\u001b[38;5;241m.\u001b[39m_engine\u001b[38;5;241m.\u001b[39mget_loc(casted_key)\n\u001b[1;32m   3622\u001b[0m \u001b[38;5;28;01mexcept\u001b[39;00m \u001b[38;5;167;01mKeyError\u001b[39;00m \u001b[38;5;28;01mas\u001b[39;00m err:\n\u001b[0;32m-> 3623\u001b[0m     \u001b[38;5;28;01mraise\u001b[39;00m \u001b[38;5;167;01mKeyError\u001b[39;00m(key) \u001b[38;5;28;01mfrom\u001b[39;00m \u001b[38;5;21;01merr\u001b[39;00m\n\u001b[1;32m   3624\u001b[0m \u001b[38;5;28;01mexcept\u001b[39;00m \u001b[38;5;167;01mTypeError\u001b[39;00m:\n\u001b[1;32m   3625\u001b[0m     \u001b[38;5;66;03m# If we have a listlike key, _check_indexing_error will raise\u001b[39;00m\n\u001b[1;32m   3626\u001b[0m     \u001b[38;5;66;03m#  InvalidIndexError. Otherwise we fall through and re-raise\u001b[39;00m\n\u001b[1;32m   3627\u001b[0m     \u001b[38;5;66;03m#  the TypeError.\u001b[39;00m\n\u001b[1;32m   3628\u001b[0m     \u001b[38;5;28mself\u001b[39m\u001b[38;5;241m.\u001b[39m_check_indexing_error(key)\n",
      "\u001b[0;31mKeyError\u001b[0m: 9"
     ]
    }
   ],
   "source": [
    "\n",
    "print(TestData[9])\n",
    "#Predicted_MegaWatt  = predicted_stock_price\n",
    "#dates = TestData.index.to_list()"
   ]
  },
  {
   "cell_type": "code",
   "execution_count": 55,
   "id": "7f4d5daa",
   "metadata": {},
   "outputs": [
    {
     "name": "stderr",
     "output_type": "stream",
     "text": [
      "No artists with labels found to put in legend.  Note that artists whose label start with an underscore are ignored when legend() is called with no argument.\n"
     ]
    },
    {
     "data": {
      "text/plain": [
       "<matplotlib.legend.Legend at 0x7fb26d157c10>"
      ]
     },
     "execution_count": 55,
     "metadata": {},
     "output_type": "execute_result"
    },
    {
     "data": {
      "image/png": "[encoded data removed]",
      "text/plain": [
       "<Figure size 432x288 with 1 Axes>"
      ]
     },
     "metadata": {
      "needs_background": "light"
     },
     "output_type": "display_data"
    }
   ],
   "source": [
    "fig = plt.figure()\n",
    "\n",
    "ax1= fig.add_subplot(111)\n",
    "\n",
    "x = dates\n",
    "y = True_MegaWatt\n",
    "\n",
    "y1 = Predicted_MegaWatt\n",
    "\n",
    "plt.plot(x,y, color=\"green\")\n",
    "plt.plot(x,y1, color=\"red\")\n",
    "# beautify the x-labels\n",
    "plt.gcf().autofmt_xdate()\n",
    "plt.xlabel('Dates')\n",
    "plt.ylabel(\"Power in MW\")\n",
    "plt.title(\"Machine Learned the Pattern Predicting Future Values \")\n",
    "plt.legend()"
   ]
  },
  {
   "cell_type": "code",
   "execution_count": null,
   "id": "010d31b6",
   "metadata": {},
   "outputs": [],
   "source": []
  }
 ],
 "metadata": {
  "kernelspec": {
   "display_name": "Python 3 (ipykernel)",
   "language": "python",
   "name": "python3"
  },
  "language_info": {
   "codemirror_mode": {
    "name": "ipython",
    "version": 3
   },
   "file_extension": ".py",
   "mimetype": "text/x-python",
   "name": "python",
   "nbconvert_exporter": "python",
   "pygments_lexer": "ipython3",
   "version": "3.8.10"
  }
 },
 "nbformat": 4,
 "nbformat_minor": 5
}
